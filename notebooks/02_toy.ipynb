{
 "cells": [
  {
   "cell_type": "markdown",
   "metadata": {},
   "source": [
    "# Demonstration on a toy problem"
   ]
  },
  {
   "cell_type": "code",
   "execution_count": 1,
   "metadata": {},
   "outputs": [],
   "source": [
    "import numpy as np\n",
    "import hypothesis\n",
    "import torch\n",
    "import os\n",
    "import matplotlib.pyplot as plt\n",
    "import warnings\n",
    "\n",
    "from hypothesis.visualization.util import make_square\n",
    "from toy import allocate_prior\n",
    "from toy import load_estimator\n",
    "from toy import Simulator\n",
    "from toy import RatioEstimator\n",
    "from toy import JointTrain\n",
    "from toy import JointTest"
   ]
  },
  {
   "cell_type": "markdown",
   "metadata": {},
   "source": [
    "## Setting and setup"
   ]
  },
  {
   "cell_type": "code",
   "execution_count": 2,
   "metadata": {},
   "outputs": [],
   "source": [
    "prior = allocate_prior()\n",
    "simulator = Simulator() # The likelihood model is normal"
   ]
  },
  {
   "cell_type": "code",
   "execution_count": 3,
   "metadata": {},
   "outputs": [],
   "source": [
    "# Draw a sample from the joint.\n",
    "truth = prior.sample()\n",
    "x_o = simulator(truth) # Draw x_o ~ N(truth, 1)"
   ]
  },
  {
   "cell_type": "code",
   "execution_count": 4,
   "metadata": {},
   "outputs": [],
   "source": [
    "# Cleanup the old data files if they are present\n",
    "!rm -r estimators"
   ]
  },
  {
   "cell_type": "markdown",
   "metadata": {},
   "source": [
    "## Training"
   ]
  },
  {
   "cell_type": "markdown",
   "metadata": {},
   "source": [
    "We train the ratio estimator using the binary provided by the [`hypothesis`](https://github.com/montefiore-ai/hypothesis) package."
   ]
  },
  {
   "cell_type": "code",
   "execution_count": 5,
   "metadata": {},
   "outputs": [
    {
     "name": "stdout",
     "output_type": "stream",
     "text": [
      "usage: Amortised Approximate Ratio Estimator training [-h] [--data-parallel]\n",
      "                                                      [--disable-gpu]\n",
      "                                                      [--out OUT] [--show]\n",
      "                                                      [--dont-shuffle]\n",
      "                                                      [--denominator DENOMINATOR]\n",
      "                                                      [--amsgrad]\n",
      "                                                      [--batch-size BATCH_SIZE]\n",
      "                                                      [--conservativeness CONSERVATIVENESS]\n",
      "                                                      [--epochs EPOCHS]\n",
      "                                                      [--logits] [--lr LR]\n",
      "                                                      [--lrsched]\n",
      "                                                      [--lrsched-every LRSCHED_EVERY]\n",
      "                                                      [--lrsched-gamma LRSCHED_GAMMA]\n",
      "                                                      [--weight-decay WEIGHT_DECAY]\n",
      "                                                      [--workers WORKERS]\n",
      "                                                      [--data-test DATA_TEST]\n",
      "                                                      [--data-train DATA_TRAIN]\n",
      "                                                      [--estimator ESTIMATOR]\n",
      "\n",
      "optional arguments:\n",
      "  -h, --help            show this help message and exit\n",
      "  --data-parallel       Enable data-parallel training if multiple GPU's are\n",
      "                        available (default: false).\n",
      "  --disable-gpu         Disable the usage of the GPU, not recommended.\n",
      "                        (default: false).\n",
      "  --out OUT             Output directory (default: none).\n",
      "  --show                Show the progress and the final result (default:\n",
      "                        false).\n",
      "  --dont-shuffle        Disables shuffling of the batch loader (default:\n",
      "                        false).\n",
      "  --denominator DENOMINATOR\n",
      "                        Random variables in the denominator and their\n",
      "                        (in)dependence relation (default: 'inputs|outputs').\n",
      "  --amsgrad             Use AMSGRAD version of Adam (default: false).\n",
      "  --batch-size BATCH_SIZE\n",
      "                        Batch size (default: 64).\n",
      "  --conservativeness CONSERVATIVENESS\n",
      "                        Conservative term (default: 0.0).\n",
      "  --epochs EPOCHS       Number of epochs (default: 1).\n",
      "  --logits              Use the logit-trick for the minimization criterion\n",
      "                        (default: true).\n",
      "  --lr LR               Learning rate (default: 0.001).\n",
      "  --lrsched             Enable learning rate scheduling (default: false).\n",
      "  --lrsched-every LRSCHED_EVERY\n",
      "                        Schedule the learning rate every n epochs (default:\n",
      "                        none).\n",
      "  --lrsched-gamma LRSCHED_GAMMA\n",
      "                        Learning rate scheduling stepsize (default: none).\n",
      "  --weight-decay WEIGHT_DECAY\n",
      "                        Weight decay (default: 0.0).\n",
      "  --workers WORKERS     Number of concurrent data loaders (default: 2).\n",
      "  --data-test DATA_TEST\n",
      "                        Full classname of the testing dataset (default: none,\n",
      "                        optional).\n",
      "  --data-train DATA_TRAIN\n",
      "                        Full classname of the training dataset (default:\n",
      "                        none).\n",
      "  --estimator ESTIMATOR\n",
      "                        Full classname of the ratio estimator (default: none).\n"
     ]
    }
   ],
   "source": [
    "!python -u -m hypothesis.bin.ratio_estimation.train -h"
   ]
  },
  {
   "cell_type": "markdown",
   "metadata": {},
   "source": [
    "### Hyperparameters"
   ]
  },
  {
   "cell_type": "code",
   "execution_count": 6,
   "metadata": {},
   "outputs": [],
   "source": [
    "batch_size = 4096"
   ]
  },
  {
   "cell_type": "code",
   "execution_count": 7,
   "metadata": {},
   "outputs": [],
   "source": [
    "epochs = 10"
   ]
  },
  {
   "cell_type": "code",
   "execution_count": 8,
   "metadata": {},
   "outputs": [],
   "source": [
    "learning_rate = 0.0001"
   ]
  },
  {
   "cell_type": "code",
   "execution_count": 9,
   "metadata": {},
   "outputs": [],
   "source": [
    "weight_decay = 0.0"
   ]
  },
  {
   "cell_type": "code",
   "execution_count": 10,
   "metadata": {},
   "outputs": [],
   "source": [
    "num_estimators = 3"
   ]
  },
  {
   "cell_type": "markdown",
   "metadata": {},
   "source": [
    "### Training procedure"
   ]
  },
  {
   "cell_type": "markdown",
   "metadata": {},
   "source": [
    "```console\n",
    "python -u -m hypothesis.bin.ratio_estimation.train\n",
    "           --data-paralle                           # Automatically train the model on multiple GPU's when the resources are available\n",
    "           --out $path                              # Store the trained models and other metadata in the specified folder\n",
    "           --show                                   # Show the progress of the training procedure in `stdout`\n",
    "           --denominator \"inputs|outputs\"           # Denominator of the training criterion '|' denotes an independence relation. \n",
    "                                                    #   -> p(inputs)p(outputs) -> so the ratio it will learn is p(inputs,outputs)/(p(inputs)p(outputs)) \n",
    "                                                    #   -> pointwise mutual information\n",
    "           --batch-size $batch_size                 # Batch size\n",
    "           --conservativeness 0.0                   # Conservativeness criterion, how much weight should be given to the prior. \n",
    "                                                    #  -> Convenient way to impose a conservative estimation. \n",
    "                                                    #  -> Setting this value to 1 will result in a posterior that is indistinghuisable from the prior.\n",
    "           --epochs $epochs                         # Number of epochs\n",
    "           --lr $learning_rate                      # Learning rate\n",
    "           --lrsched                                # Enables learning rate scheduling\n",
    "           --lrsched-every 5                        # Schedule every 5 epochs\n",
    "           --lrsched-gamma 0.5                      # Decay learning rate every 5 epochs by 0.5\n",
    "           --weight-decay $weight_decay             # Weight decay, automatically enables the AdamW optimizer.\n",
    "           --workers 8                              # Number of concurrent data loaders\n",
    "           --data-train \"toy.JointTrain\"            # Class of the training dataset\n",
    "           --data-test \"toy.JointTest\"              # Class of the test dataset\n",
    "           --estimator \"toy.RatioEstimator\"         # Class of the ratio estimator, should accept the keywords defined in `--denominator`.\n",
    "                                                    #  -> forward(inputs=inputs, outputs=outputs).\n",
    "```"
   ]
  },
  {
   "cell_type": "code",
   "execution_count": 11,
   "metadata": {},
   "outputs": [
    {
     "name": "stdout",
     "output_type": "stream",
     "text": [
      "\n",
      "Training started!\n",
      "Test loss 0.32771736517792843: 100%|████████████| 10/10 [03:26<00:00, 20.64s/it]\n",
      "Total epochs:\t\t10\n",
      "Best training loss:\t0.2915310263633728\n",
      "Final training loss:\t0.32228296995162964\n",
      "Best testing loss:\t0.3260836374075686\n",
      "Best test epoch:\t9\n",
      "Final test loss:\t0.32771736517792843\n",
      "\n",
      "Training started!\n",
      "Test loss 0.3265163843504718: 100%|█████████████| 10/10 [03:28<00:00, 20.84s/it]\n",
      "Total epochs:\t\t10\n",
      "Best training loss:\t0.2991333603858948\n",
      "Final training loss:\t0.32102590799331665\n",
      "Best testing loss:\t0.3265163843504718\n",
      "Best test epoch:\t10\n",
      "Final test loss:\t0.3265163843504718\n",
      "\n",
      "Training started!\n",
      "Test loss 0.3278562894365827: 100%|█████████████| 10/10 [03:30<00:00, 21.02s/it]\n",
      "Total epochs:\t\t10\n",
      "Best training loss:\t0.2885107398033142\n",
      "Final training loss:\t0.3093600571155548\n",
      "Best testing loss:\t0.32710059414632986\n",
      "Best test epoch:\t8\n",
      "Final test loss:\t0.3278562894365827\n"
     ]
    }
   ],
   "source": [
    "!mkdir -p estimators\n",
    "\n",
    "for index in range(num_estimators):\n",
    "    path = \"estimators/\" + str(index).zfill(5)\n",
    "    # Check if the model has been trained\n",
    "    if not os.path.exists(path + \"/best-model.th\"):\n",
    "        print(\"\\nTraining started!\")\n",
    "        !python -u -m hypothesis.bin.ratio_estimation.train \\\n",
    "           --data-parallel \\\n",
    "           --out $path \\\n",
    "           --show \\\n",
    "           --denominator \"inputs|outputs\" \\\n",
    "           --batch-size $batch_size \\\n",
    "           --conservativeness 0.0 \\\n",
    "           --epochs $epochs \\\n",
    "           --lr $learning_rate \\\n",
    "           --lrsched \\\n",
    "           --lrsched-every 5 \\\n",
    "           --lrsched-gamma 0.5 \\\n",
    "           --weight-decay $weight_decay \\\n",
    "           --workers 8 \\\n",
    "           --data-train \"toy.JointTrain\" \\\n",
    "           --data-test \"toy.JointTest\" \\\n",
    "           --estimator \"toy.RatioEstimator\""
   ]
  },
  {
   "cell_type": "markdown",
   "metadata": {},
   "source": [
    "The loss curves:"
   ]
  },
  {
   "cell_type": "code",
   "execution_count": 29,
   "metadata": {},
   "outputs": [
    {
     "data": {
      "image/png": "[encoded data removed]",
      "text/plain": [
       "<Figure size 432x288 with 1 Axes>"
      ]
     },
     "metadata": {
      "needs_background": "light"
     },
     "output_type": "display_data"
    }
   ],
   "source": [
    "import glob\n",
    "\n",
    "paths = \"estimators/*/losses-test.npy\"\n",
    "losses = np.vstack([np.load(p).reshape(1, -1) for p in glob.glob(paths)])\n",
    "\n",
    "epochs = np.arange(1, len(losses[0]) + 1)\n",
    "m = np.mean(losses, axis=0)\n",
    "s = np.std(losses, axis=0)\n",
    "plt.plot(epochs, m, color=\"black\", lw=2)\n",
    "plt.fill_between(epochs, m - s, m + s, color=\"black\", alpha=.1)\n",
    "plt.ylabel(\"Test loss\")\n",
    "plt.xlabel(\"Epochs\")\n",
    "make_square(plt.gca())\n",
    "plt.show()"
   ]
  },
  {
   "cell_type": "markdown",
   "metadata": {},
   "source": [
    "## Inference"
   ]
  },
  {
   "cell_type": "code",
   "execution_count": 12,
   "metadata": {},
   "outputs": [],
   "source": [
    "# Load the trained ratio estimator, and prepare the inputs.\n",
    "resolution = 100\n",
    "r = load_estimator(\"estimators/*/best-model.th\")\n",
    "inputs = torch.linspace(prior.low, prior.high, resolution).view(-1, 1)\n",
    "outputs = x_o.repeat(resolution).view(-1, 1)"
   ]
  },
  {
   "cell_type": "markdown",
   "metadata": {},
   "source": [
    "We now have all components to compute\n",
    "\n",
    "$$\n",
    "\\log\\hat{p}(\\vartheta\\vert x) = \\log p(\\vartheta) + \\log\\hat{r}(x\\vert\\vartheta)\n",
    "$$"
   ]
  },
  {
   "cell_type": "code",
   "execution_count": 13,
   "metadata": {},
   "outputs": [],
   "source": [
    "# Compute the posterior\n",
    "log_posterior = prior.log_prob(inputs) + r.log_ratio(inputs=inputs, outputs=outputs)"
   ]
  },
  {
   "cell_type": "markdown",
   "metadata": {},
   "source": [
    "As you can tell, we compute the posterior density function by evaluating the input space for the observable $x_o$."
   ]
  },
  {
   "cell_type": "code",
   "execution_count": 14,
   "metadata": {},
   "outputs": [
    {
     "data": {
      "image/png": "[encoded data removed]",
      "text/plain": [
       "<Figure size 432x288 with 1 Axes>"
      ]
     },
     "metadata": {
      "needs_background": "light"
     },
     "output_type": "display_data"
    },
    {
     "data": {
      "image/png": "[encoded data removed]",
      "text/plain": [
       "<Figure size 432x288 with 1 Axes>"
      ]
     },
     "metadata": {
      "needs_background": "light"
     },
     "output_type": "display_data"
    }
   ],
   "source": [
    "# Plot the posterior\n",
    "plt.plot(inputs.detach().numpy(), log_posterior.exp().detach().numpy(), lw=2, color=\"black\")\n",
    "plt.axvline(truth, lw=2, color=\"C0\", label=\"Truth\")\n",
    "plt.axvline(x_o, lw=2, color=\"red\", label=\"True MAP\")\n",
    "plt.ylabel(\"Posterior density\")\n",
    "make_square(plt.gca())\n",
    "plt.legend()\n",
    "plt.show()\n",
    "\n",
    "# Plot the posterior\n",
    "plt.plot(inputs.detach().numpy(), log_posterior.detach().numpy(), lw=2, color=\"black\")\n",
    "plt.axvline(truth, lw=2, color=\"C0\", label=\"Truth\")\n",
    "plt.axvline(x_o, lw=2, color=\"red\", label=\"True MAP\")\n",
    "plt.ylabel(\"Posterior density\")\n",
    "make_square(plt.gca())\n",
    "plt.legend()\n",
    "plt.show()"
   ]
  },
  {
   "cell_type": "markdown",
   "metadata": {},
   "source": [
    "Due to the amortization, we can simply evaluate the posterior for a different observable without retraining! This enables fast likelihood-free inference when confronted with many observables."
   ]
  },
  {
   "cell_type": "code",
   "execution_count": 15,
   "metadata": {},
   "outputs": [
    {
     "data": {
      "image/png": "[encoded data removed]",
      "text/plain": [
       "<Figure size 432x288 with 1 Axes>"
      ]
     },
     "metadata": {
      "needs_background": "light"
     },
     "output_type": "display_data"
    },
    {
     "data": {
      "image/png": "[encoded data removed]",
      "text/plain": [
       "<Figure size 432x288 with 1 Axes>"
      ]
     },
     "metadata": {
      "needs_background": "light"
     },
     "output_type": "display_data"
    }
   ],
   "source": [
    "# Draw a sample from the joint.\n",
    "truth = prior.sample()\n",
    "x_o = simulator(truth)\n",
    "\n",
    "# Prepare the inputs for the ratio estimator\n",
    "inputs = torch.linspace(prior.low, prior.high, resolution).view(-1, 1)\n",
    "outputs = x_o.repeat(resolution).view(-1, 1)\n",
    "\n",
    "# Compute the posterior\n",
    "log_posterior = prior.log_prob(inputs) + r.log_ratio(inputs=inputs, outputs=outputs)\n",
    "\n",
    "# Plot the posterior\n",
    "plt.plot(inputs.detach().numpy(), log_posterior.exp().detach().numpy(), lw=2, color=\"black\")\n",
    "plt.axvline(truth, lw=2, color=\"C0\", label=\"Truth\")\n",
    "plt.axvline(x_o, lw=2, color=\"red\", label=\"True MAP\")\n",
    "plt.ylabel(\"Posterior density\")\n",
    "make_square(plt.gca())\n",
    "plt.legend()\n",
    "plt.show()\n",
    "\n",
    "# Plot the log posterior\n",
    "plt.plot(inputs.detach().numpy(), log_posterior.detach().numpy(), lw=2, color=\"black\")\n",
    "plt.axvline(truth, lw=2, color=\"C0\", label=\"Truth\")\n",
    "plt.axvline(x_o, lw=2, color=\"red\", label=\"True MAP\")\n",
    "plt.ylabel(\"Posterior density\")\n",
    "make_square(plt.gca())\n",
    "plt.legend()\n",
    "plt.show()"
   ]
  }
 ],
 "metadata": {
  "kernelspec": {
   "display_name": "Python 3",
   "language": "python",
   "name": "python3"
  },
  "language_info": {
   "codemirror_mode": {
    "name": "ipython",
    "version": 3
   },
   "file_extension": ".py",
   "mimetype": "text/x-python",
   "name": "python",
   "nbconvert_exporter": "python",
   "pygments_lexer": "ipython3",
   "version": "3.7.6"
  }
 },
 "nbformat": 4,
 "nbformat_minor": 4
}
