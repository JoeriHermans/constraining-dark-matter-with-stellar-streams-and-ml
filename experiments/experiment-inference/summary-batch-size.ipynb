{
 "cells": [
  {
   "cell_type": "markdown",
   "metadata": {},
   "source": [
    "# Influence of the batch-size on the approximated posteriors"
   ]
  },
  {
   "cell_type": "code",
   "execution_count": null,
   "metadata": {},
   "outputs": [],
   "source": [
    "import hypothesis\n",
    "import numpy as np\n",
    "import glob\n",
    "import matplotlib\n",
    "import plotting\n",
    "import matplotlib.pyplot as plt\n",
    "import torch\n",
    "\n",
    "from hypothesis.stat import highest_density_level\n",
    "from hypothesis.visualization.util import make_square\n",
    "from matplotlib.colors import LogNorm\n",
    "from matplotlib import rc\n",
    "from plotting import compute_1d_pdf\n",
    "from plotting import compute_2d_pdf\n",
    "from plotting import compute_1d_pdf_abc\n",
    "from plotting import compute_2d_pdf_abc\n",
    "from plotting import plot_1d_pdf\n",
    "from plotting import plot_2d_pdf\n",
    "from plotting import plot_1d_pdf_std\n",
    "from plotting import plot_1d_contours\n",
    "from plotting import plot_2d_contours\n",
    "from plotting import plot_stream\n",
    "from tqdm import tqdm\n",
    "from util import load_ratio_estimator\n",
    "from util import MarginalizedAgePrior"
   ]
  },
  {
   "cell_type": "code",
   "execution_count": null,
   "metadata": {},
   "outputs": [],
   "source": [
    "matplotlib.rcParams[\"text.latex.preamble\"] = r\"\\usepackage{amssymb}\"\n",
    "\n",
    "# Matplotlib settings\n",
    "plt.rcParams.update({\"font.size\": 18})\n",
    "rc(\"font\", **{\"family\": \"serif\", \"serif\": [\"Computer Modern\"]})\n",
    "plt.rcParams[\"text.usetex\"] = True"
   ]
  },
  {
   "cell_type": "code",
   "execution_count": null,
   "metadata": {},
   "outputs": [],
   "source": [
    "!mkdir -p plots"
   ]
  },
  {
   "cell_type": "markdown",
   "metadata": {},
   "source": [
    "## Load the pretrained ratio estimators"
   ]
  },
  {
   "cell_type": "code",
   "execution_count": null,
   "metadata": {},
   "outputs": [],
   "source": [
    "activation = \"selu\""
   ]
  },
  {
   "cell_type": "code",
   "execution_count": null,
   "metadata": {},
   "outputs": [],
   "source": [
    "query = \"out/batch-size/4096/marginalized/\" + activation + \"/*mlp-50-*batchnorm-1*/best-model.th\"\n",
    "r_4096 = load_ratio_estimator(query, normalize_inputs=False)"
   ]
  },
  {
   "cell_type": "code",
   "execution_count": null,
   "metadata": {},
   "outputs": [],
   "source": [
    "query = \"out/batch-size/1024/marginalized/\" + activation + \"/*mlp-50-*batchnorm-1*/best-model.th\"\n",
    "r_1024 = load_ratio_estimator(query, normalize_inputs=False)"
   ]
  },
  {
   "cell_type": "code",
   "execution_count": null,
   "metadata": {},
   "outputs": [],
   "source": [
    "query = \"out/batch-size/256/marginalized/\" + activation + \"/*mlp-50-*batchnorm-1*/best-model.th\"\n",
    "r_256 = load_ratio_estimator(query, normalize_inputs=False)"
   ]
  },
  {
   "cell_type": "code",
   "execution_count": null,
   "metadata": {},
   "outputs": [],
   "source": [
    "query = \"out/batch-size/64/marginalized/\" + activation + \"/*mlp-50-*batchnorm-1*/best-model.th\"\n",
    "r_64 = load_ratio_estimator(query, normalize_inputs=False)"
   ]
  },
  {
   "cell_type": "markdown",
   "metadata": {},
   "source": [
    "## Globals"
   ]
  },
  {
   "cell_type": "code",
   "execution_count": null,
   "metadata": {},
   "outputs": [],
   "source": [
    "datadir = \"../experiment-simulations/data\"   # Root directory containing the generated and observed data\n",
    "phi = np.load(datadir + \"/phi-cut.npy\")      # Linear angle\n",
    "ages = np.load(datadir + \"/test/ages.npy\")\n",
    "masses = np.load(datadir + \"/test/masses.npy\")\n",
    "streams = np.load(datadir + \"/test/density-contrasts-cut-noised.npy\")\n",
    "prior = MarginalizedAgePrior()"
   ]
  },
  {
   "cell_type": "markdown",
   "metadata": {},
   "source": [
    "## Losses with respect to batch-size"
   ]
  },
  {
   "cell_type": "code",
   "execution_count": null,
   "metadata": {},
   "outputs": [],
   "source": [
    "query = \"out/batch-size/4096/marginalized/\" + activation + \"/*mlp-50-*batchnorm-1*/losses-test.npy\"\n",
    "paths = glob.glob(query)\n",
    "data = []\n",
    "for path in paths:\n",
    "    data.append(np.load(path).reshape(1, -1))\n",
    "    \n",
    "losses_4096 = np.vstack(data)"
   ]
  },
  {
   "cell_type": "code",
   "execution_count": null,
   "metadata": {},
   "outputs": [],
   "source": [
    "query = \"out/batch-size/1024/marginalized/\" + activation + \"/*mlp-50-*batchnorm-1*/losses-test.npy\"\n",
    "paths = glob.glob(query)\n",
    "data = []\n",
    "for path in paths:\n",
    "    data.append(np.load(path).reshape(1, -1))\n",
    "    \n",
    "losses_1024 = np.vstack(data)"
   ]
  },
  {
   "cell_type": "code",
   "execution_count": null,
   "metadata": {},
   "outputs": [],
   "source": [
    "query = \"out/batch-size/256/marginalized/\" + activation + \"/*mlp-50-*batchnorm-1*/losses-test.npy\"\n",
    "paths = glob.glob(query)\n",
    "data = []\n",
    "for path in paths:\n",
    "    data.append(np.load(path).reshape(1, -1))\n",
    "    \n",
    "losses_256 = np.vstack(data)"
   ]
  },
  {
   "cell_type": "code",
   "execution_count": null,
   "metadata": {},
   "outputs": [],
   "source": [
    "query = \"out/batch-size/64/marginalized/\" + activation + \"/*mlp-50-*batchnorm-1*/losses-test.npy\"\n",
    "paths = glob.glob(query)\n",
    "data = []\n",
    "for path in paths:\n",
    "    data.append(np.load(path).reshape(1, -1))\n",
    "    \n",
    "losses_64 = np.vstack(data)"
   ]
  },
  {
   "cell_type": "code",
   "execution_count": null,
   "metadata": {},
   "outputs": [],
   "source": [
    "epochs = np.arange(1, 50 + 1)\n",
    "\n",
    "plt.plot(np.mean(losses_4096, axis=0), label=\"4096\")\n",
    "plt.plot(np.mean(losses_1024, axis=0), label=\"1024\")\n",
    "plt.plot(np.mean(losses_256, axis=0), label=\"256\")\n",
    "plt.plot(np.mean(losses_64, axis=0), label=\"64\")\n",
    "plt.legend()\n",
    "plt.show()"
   ]
  },
  {
   "cell_type": "code",
   "execution_count": null,
   "metadata": {},
   "outputs": [],
   "source": [
    "test_losses_m = [\n",
    "    np.mean(losses_64, axis=0),\n",
    "    np.mean(losses_256, axis=0),\n",
    "    np.mean(losses_1024, axis=0),\n",
    "    np.mean(losses_4096, axis=0)\n",
    "]\n",
    "\n",
    "test_losses_e = [\n",
    "    np.std(losses_64, axis=0),\n",
    "    np.std(losses_256, axis=0),\n",
    "    np.std(losses_1024, axis=0),\n",
    "    np.std(losses_4096, axis=0)\n",
    "]"
   ]
  },
  {
   "cell_type": "markdown",
   "metadata": {},
   "source": [
    "### Verify 95% CR coverage"
   ]
  },
  {
   "cell_type": "code",
   "execution_count": null,
   "metadata": {},
   "outputs": [],
   "source": [
    "def fetch_coverage(batch_size):\n",
    "    # Fetch the results\n",
    "    level = 0.95\n",
    "    query = \"out/batch-size/\" + str(batch_size) + \"/marginalized/selu/*\" + str(level) + \"*.npy\"\n",
    "    paths = glob.glob(query)\n",
    "    coverages = []\n",
    "    for path in paths:\n",
    "        result = np.load(path)\n",
    "        coverages.append(result.sum() / len(result))\n",
    "    if len(coverages) == 0:\n",
    "        raise ValueError(\"No results available!\")\n",
    "    coverages = np.array(coverages)\n",
    "    m = round(np.mean(coverages), 3)\n",
    "    s = round(np.std(coverages), 3)\n",
    "\n",
    "    return m, s"
   ]
  },
  {
   "cell_type": "markdown",
   "metadata": {},
   "source": [
    "#### Batch-size 64"
   ]
  },
  {
   "cell_type": "code",
   "execution_count": null,
   "metadata": {},
   "outputs": [],
   "source": [
    "fetch_coverage(64)"
   ]
  },
  {
   "cell_type": "markdown",
   "metadata": {},
   "source": [
    "#### Batch-size 256"
   ]
  },
  {
   "cell_type": "code",
   "execution_count": null,
   "metadata": {},
   "outputs": [],
   "source": [
    "fetch_coverage(256)"
   ]
  },
  {
   "cell_type": "markdown",
   "metadata": {},
   "source": [
    "#### Batch-size 1024"
   ]
  },
  {
   "cell_type": "code",
   "execution_count": null,
   "metadata": {},
   "outputs": [],
   "source": [
    "fetch_coverage(1024)"
   ]
  },
  {
   "cell_type": "markdown",
   "metadata": {},
   "source": [
    "#### Batch-size 4096"
   ]
  },
  {
   "cell_type": "code",
   "execution_count": null,
   "metadata": {},
   "outputs": [],
   "source": [
    "fetch_coverage(4096)"
   ]
  },
  {
   "cell_type": "markdown",
   "metadata": {},
   "source": [
    "#### Summary"
   ]
  },
  {
   "cell_type": "code",
   "execution_count": null,
   "metadata": {},
   "outputs": [],
   "source": [
    "cov_64_m, cov_64_s = fetch_coverage(64)\n",
    "cov_256_m, cov_256_s = fetch_coverage(256)\n",
    "cov_1024_m, cov_1024_s = fetch_coverage(1024)\n",
    "cov_4096_m, cov_4096_s = fetch_coverage(4096)"
   ]
  },
  {
   "cell_type": "markdown",
   "metadata": {},
   "source": [
    "## Compute $\\mathbb{E}_{x\\sim p(x)}\\left[\\log p(\\vartheta = \\vartheta^*\\vert x\\right]$ for the various settings"
   ]
  },
  {
   "cell_type": "code",
   "execution_count": null,
   "metadata": {},
   "outputs": [],
   "source": [
    "def expected_nominal_pdf(r, n=1000):\n",
    "    estimates = []\n",
    "    for _ in range(n):\n",
    "        index = np.random.randint(0, 100000)\n",
    "        stream = torch.from_numpy(streams[index]).unsqueeze(0).float()\n",
    "        mass = torch.from_numpy(masses[index]).unsqueeze(0).float()\n",
    "        stream = stream.to(hypothesis.accelerator)\n",
    "        mass = mass.to(hypothesis.accelerator)\n",
    "        log_pdf = prior.log_prob(mass) + r.log_ratio(inputs=mass, outputs=stream)\n",
    "        estimates.append(log_pdf.item())\n",
    "        \n",
    "    return np.mean(estimates)"
   ]
  },
  {
   "cell_type": "code",
   "execution_count": null,
   "metadata": {},
   "outputs": [],
   "source": [
    "repeat = 25 # Repeat the experiments 25 times"
   ]
  },
  {
   "cell_type": "code",
   "execution_count": null,
   "metadata": {},
   "outputs": [],
   "source": [
    "estimates = []\n",
    "for _ in tqdm(range(repeat)):\n",
    "    estimates.append(expected_nominal_pdf(r_4096))\n",
    "print(np.mean(estimates), \"±\", np.std(estimates))\n",
    "\n",
    "m_4096 = np.mean(estimates)\n",
    "s_4096 = np.std(estimates)"
   ]
  },
  {
   "cell_type": "code",
   "execution_count": null,
   "metadata": {},
   "outputs": [],
   "source": [
    "m_4096"
   ]
  },
  {
   "cell_type": "code",
   "execution_count": null,
   "metadata": {},
   "outputs": [],
   "source": [
    "estimates = []\n",
    "for _ in tqdm(range(repeat)):\n",
    "    estimates.append(expected_nominal_pdf(r_1024))\n",
    "print(np.mean(estimates), \"±\", np.std(estimates))\n",
    "\n",
    "m_1024 = np.mean(estimates)\n",
    "s_1024 = np.std(estimates)"
   ]
  },
  {
   "cell_type": "code",
   "execution_count": null,
   "metadata": {},
   "outputs": [],
   "source": [
    "m_1024"
   ]
  },
  {
   "cell_type": "code",
   "execution_count": null,
   "metadata": {},
   "outputs": [],
   "source": [
    "estimates = []\n",
    "for _ in tqdm(range(repeat)):\n",
    "    estimates.append(expected_nominal_pdf(r_256))\n",
    "print(np.mean(estimates), \"±\", np.std(estimates))\n",
    "\n",
    "m_256 = np.mean(estimates)\n",
    "s_256 = np.std(estimates)"
   ]
  },
  {
   "cell_type": "code",
   "execution_count": null,
   "metadata": {},
   "outputs": [],
   "source": [
    "m_256"
   ]
  },
  {
   "cell_type": "code",
   "execution_count": null,
   "metadata": {},
   "outputs": [],
   "source": [
    "estimates = []\n",
    "for _ in tqdm(range(repeat)):\n",
    "    estimates.append(expected_nominal_pdf(r_64))\n",
    "print(np.mean(estimates), \"±\", np.std(estimates))\n",
    "\n",
    "m_64 = np.mean(estimates)\n",
    "s_64 = np.std(estimates)"
   ]
  },
  {
   "cell_type": "code",
   "execution_count": null,
   "metadata": {},
   "outputs": [],
   "source": [
    "m_64"
   ]
  },
  {
   "cell_type": "markdown",
   "metadata": {},
   "source": [
    "## Plot $\\mathbb{E}_{x\\sim p(x)}\\left[\\log p(\\vartheta = \\vartheta^*\\vert x)\\right]$ vs. batch-size and associated losses"
   ]
  },
  {
   "cell_type": "code",
   "execution_count": null,
   "metadata": {},
   "outputs": [],
   "source": [
    "figure, axes = plt.subplots(ncols=2, figsize=(11, 5))\n",
    "\n",
    "batch_sizes = [64, 256, 1024, 4096]\n",
    "batch_sizes = [64, 256, 1024, 4096]\n",
    "\n",
    "# Expectation\n",
    "ax = axes[0]\n",
    "ax.set_xlabel(\"Batch-size\")\n",
    "#ax.set_xscale(\"log\", basex=2)\n",
    "ax.set_xticks([1, 2, 3, 4, 5, 6, 7])\n",
    "ax.set_xticklabels([\"64\", '', \"256\", '', \"1024\", \"\", \"4096\"])\n",
    "ax.set_ylabel(r\"$\\mathbb{E}_{x\\sim p(x)}\\left[\\log p(\\vartheta = \\vartheta^*\\vert x)\\right]$\")\n",
    "\n",
    "expectations_m = [m_64, m_256, m_1024, m_4096]\n",
    "expectations_e = [1 * s_64, 1 * s_256, 1 * s_1024, 1 * s_4096]\n",
    "ax.errorbar([1, 3, 5, 7], expectations_m, expectations_e, capsize=3, color=\"black\", marker='o', markersize=5, linestyle=\"solid\")\n",
    "ax.grid(True, alpha=.1, which=\"both\")\n",
    "#ax.set_title(r\"Expected log posterior probability of $\\vartheta^*$\")\n",
    "ax.minorticks_on()\n",
    "make_square(ax)\n",
    "\n",
    "# Losses\n",
    "ax = axes[1]\n",
    "ax.set_xlabel(\"Epochs\")\n",
    "ax.set_ylabel(\"Test loss\")\n",
    "ax.grid(True, alpha=.1, which=\"both\")\n",
    "ax.minorticks_on()\n",
    "markers = ['solid', 'dashed', 'dashdot', 'dotted']\n",
    "for index in range(len(test_losses_m)):\n",
    "    loss = test_losses_m[index]\n",
    "    error = 1 * test_losses_e[index] # 95 %\n",
    "    ax.plot(epochs, loss, lw=2, color=\"black\", linestyle=markers[index], label=batch_sizes[index])\n",
    "    #ax.fill_between(epochs, loss - error, loss + error, alpha=.1, lw=2, color=\"black\")\n",
    "ax.set_ylim([1.20, 1.255])\n",
    "ax.legend()\n",
    "ax.yaxis.tick_right()\n",
    "ax.yaxis.set_label_position(\"right\")\n",
    "ax.set_xticks([0, 10, 20, 30, 40, 50])\n",
    "make_square(ax)\n",
    "\n",
    "figure.tight_layout()\n",
    "plt.savefig(\"plots/batch-size-evaluation.pdf\", bbox_inches=\"tight\")\n",
    "figure.show()"
   ]
  }
 ],
 "metadata": {
  "kernelspec": {
   "display_name": "Python 3",
   "language": "python",
   "name": "python3"
  },
  "language_info": {
   "codemirror_mode": {
    "name": "ipython",
    "version": 3
   },
   "file_extension": ".py",
   "mimetype": "text/x-python",
   "name": "python",
   "nbconvert_exporter": "python",
   "pygments_lexer": "ipython3",
   "version": "3.7.6"
  }
 },
 "nbformat": 4,
 "nbformat_minor": 4
}
