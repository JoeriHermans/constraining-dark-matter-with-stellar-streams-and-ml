{
 "cells": [
  {
   "cell_type": "markdown",
   "metadata": {},
   "source": [
    "# MAP convergence diagnostic"
   ]
  },
  {
   "cell_type": "code",
   "execution_count": null,
   "metadata": {},
   "outputs": [],
   "source": [
    "import hypothesis\n",
    "import numpy as np\n",
    "import glob\n",
    "import matplotlib.pyplot as plt\n",
    "import torch\n",
    "import warnings\n",
    "import plotting\n",
    "import palettable\n",
    "\n",
    "from hypothesis.stat import highest_density_level\n",
    "from hypothesis.visualization.util import make_square\n",
    "from matplotlib.colors import LogNorm\n",
    "from matplotlib import rc\n",
    "from ratio_estimation import RatioEstimator\n",
    "from util import load_ratio_estimator\n",
    "from tqdm import tqdm"
   ]
  },
  {
   "cell_type": "code",
   "execution_count": null,
   "metadata": {},
   "outputs": [],
   "source": [
    "# hypothesis.disable_gpu()\n",
    "\n",
    "hypothesis.accelerator"
   ]
  },
  {
   "cell_type": "markdown",
   "metadata": {},
   "source": [
    "## Globals"
   ]
  },
  {
   "cell_type": "code",
   "execution_count": null,
   "metadata": {},
   "outputs": [],
   "source": [
    "from util import Prior\n",
    "from util import MarginalizedAgePrior\n",
    "\n",
    "prior = Prior()                                  # Prior over the full paramater space\n",
    "prior_marginalized = MarginalizedAgePrior()      # Prior over the WDM mass\n",
    "datadir = \"../experiment-simulations/data\"       # Root directory containing the generated and observed data\n",
    "phi = np.load(datadir + \"/phi-cut.npy\")          # Linear angle\n",
    "\n",
    "# 2D posterior extent\n",
    "extent = [ # I know, this isn't very nice :(\n",
    "    prior.low[0].item(), prior.high[0].item(),\n",
    "    prior.low[1].item(), prior.high[1].item()]\n",
    "\n",
    "# Contour labels\n",
    "clabels = [\n",
    "    r\"${99.99994}\\%$\",\n",
    "    r\"${99.993}\\%$\",\n",
    "    r\"${99.7}\\%$\",\n",
    "    r\"${95}\\%$\",\n",
    "    r\"${68}\\%$\"]"
   ]
  },
  {
   "cell_type": "markdown",
   "metadata": {},
   "source": [
    "## Notebook utilities"
   ]
  },
  {
   "cell_type": "code",
   "execution_count": null,
   "metadata": {},
   "outputs": [],
   "source": [
    "def draw_contours(ax, pdf, resolution=100):\n",
    "    # Compute the contour levels\n",
    "    p = torch.from_numpy(pdf)\n",
    "    level_1sigma = highest_density_level(p, 0.68)\n",
    "    level_2sigma = highest_density_level(p, 0.95)\n",
    "    level_3sigma = highest_density_level(p, 0.997)\n",
    "    level_4sigma = highest_density_level(p, 0.99993)\n",
    "    level_5sigma = highest_density_level(p, 0.9999994)\n",
    "    levels = [\n",
    "        level_5sigma,\n",
    "        level_4sigma,\n",
    "        level_3sigma,\n",
    "        level_2sigma,\n",
    "        level_1sigma]\n",
    "    # Draw the levels\n",
    "    masses = torch.linspace(prior.low[0], prior.high[0] - 0.01, resolution).view(-1, 1)\n",
    "    masses = masses.to(hypothesis.accelerator)\n",
    "    ages = torch.linspace(prior.low[1], prior.high[1] - 0.01, resolution).view(-1, 1)\n",
    "    ages = ages.to(hypothesis.accelerator)\n",
    "    grid_ages, grid_masses = torch.meshgrid(masses.view(-1), ages.view(-1))\n",
    "    c = ax.contour(grid_ages.cpu().numpy(), grid_masses.cpu().numpy(), pdf, levels, colors=\"white\")\n",
    "    fmt = {}\n",
    "    for l, s in zip(c.levels, clabels):\n",
    "        fmt[l] = s\n",
    "    ax.clabel(c, c.levels, inline=True, fmt=fmt)"
   ]
  },
  {
   "cell_type": "code",
   "execution_count": null,
   "metadata": {},
   "outputs": [],
   "source": [
    "def plot_2d_posterior(figure, ax, pdf, mass, age):\n",
    "    # Create the main plot\n",
    "    ax.minorticks_on()\n",
    "    resolution = len(pdf)\n",
    "    cmap = palettable.cmocean.sequential.Ice_20.mpl_colormap\n",
    "    cmap = palettable.scientific.sequential.Oslo_3.mpl_colormap\n",
    "    im = ax.imshow(pdf.T + 1, norm=LogNorm(), alpha=.75, interpolation=\"bilinear\", extent=extent, origin=\"lower\", cmap=cmap)\n",
    "    ax.scatter(mass, age, s=150, marker='*', c=\"#ff4747\", alpha=1.0, zorder=10)\n",
    "    ax.set_xlabel(r\"$m_{\\textsc{wdm}}$\")\n",
    "    ax.set_ylabel(\"Stream age in Gyr\")\n",
    "    draw_contours(ax, pdf, resolution=resolution)\n",
    "    ax.grid(True, which=\"both\", alpha=.15, zorder=0, color=\"white\")\n",
    "    make_square(ax)\n",
    "    \n",
    "    return im"
   ]
  },
  {
   "cell_type": "code",
   "execution_count": null,
   "metadata": {},
   "outputs": [],
   "source": [
    "@torch.no_grad()\n",
    "def compute_2d_pdf(r, density, resolution=100):\n",
    "    masses = torch.linspace(prior.low[0], prior.high[0] - 0.01, resolution).view(-1, 1)\n",
    "    masses = masses.to(hypothesis.accelerator)\n",
    "    ages = torch.linspace(prior.low[1], prior.high[1] - 0.01, resolution).view(-1, 1)\n",
    "    ages = ages.to(hypothesis.accelerator)\n",
    "    grid_masses, grid_ages = torch.meshgrid(masses.view(-1), ages.view(-1))\n",
    "    inputs = torch.cat([grid_masses.reshape(-1,1), grid_ages.reshape(-1, 1)], dim=1)\n",
    "    densities = density.view(1, -1).repeat(resolution ** 2, 1)\n",
    "    densities = densities.to(hypothesis.accelerator)\n",
    "    log_ratios = r.log_ratio(inputs=inputs, outputs=densities)\n",
    "    log_posterior = prior.log_prob(inputs).sum(dim=1).view(-1, 1) + log_ratios\n",
    "    pdf = log_posterior.exp()\n",
    "    map_index = torch.argmax(pdf)\n",
    "    max_inputs = inputs[map_index]\n",
    "    map_mass = max_inputs[0].item()\n",
    "    map_age = max_inputs[1].item()\n",
    "    \n",
    "    return pdf.view(resolution, resolution), map_mass, map_age"
   ]
  },
  {
   "cell_type": "markdown",
   "metadata": {},
   "source": [
    "## Loading the pretrained ratio estimators"
   ]
  },
  {
   "cell_type": "code",
   "execution_count": null,
   "metadata": {},
   "outputs": [],
   "source": [
    "query = \"out/coverage/4096/not-marginalized/selu/ratio-estimator-resnet-50*batchnorm-1*/best-model.th\"\n",
    "r = load_ratio_estimator(query)"
   ]
  },
  {
   "cell_type": "code",
   "execution_count": null,
   "metadata": {},
   "outputs": [],
   "source": [
    "len(r.estimators)"
   ]
  },
  {
   "cell_type": "markdown",
   "metadata": {},
   "source": [
    "## Diagnostic"
   ]
  },
  {
   "cell_type": "code",
   "execution_count": null,
   "metadata": {},
   "outputs": [],
   "source": [
    "query = datadir + \"/nominal/block-00008\"\n",
    "paths = glob.glob(query)\n",
    "base = paths[np.random.randint(0, len(paths))]"
   ]
  },
  {
   "cell_type": "code",
   "execution_count": null,
   "metadata": {},
   "outputs": [],
   "source": [
    "phi = np.load(base + \"/phi-cut.npy\")\n",
    "age = np.load(base + \"/ages.npy\")[0]\n",
    "mass = np.load(base + \"/masses.npy\")[0]\n",
    "densities = torch.from_numpy(np.load(base + \"/density-contrasts-cut-noised.npy\")).float()\n",
    "densities = densities.to(hypothesis.accelerator)"
   ]
  },
  {
   "cell_type": "code",
   "execution_count": null,
   "metadata": {},
   "outputs": [],
   "source": [
    "@torch.no_grad()\n",
    "def compute(n, resolution=100):\n",
    "    # Initialize the pdf\n",
    "    final_pdf = torch.ones(resolution, resolution).to(hypothesis.accelerator)\n",
    "    final_pdf /= final_pdf.sum()\n",
    "    indices = np.random.randint(0, len(densities), size=n)\n",
    "    #indices = np.arange(n)   \n",
    "    for index in tqdm(indices):\n",
    "        density = densities[index]\n",
    "        pdf, _, _ = compute_2d_pdf(r, density, resolution=resolution)\n",
    "        pdf /= pdf.sum()\n",
    "        final_pdf *= pdf\n",
    "        final_pdf /= final_pdf.sum()\n",
    "        \n",
    "    return final_pdf "
   ]
  },
  {
   "cell_type": "code",
   "execution_count": null,
   "metadata": {},
   "outputs": [],
   "source": [
    "pdf_1 = compute(1, resolution=100).cpu().numpy()\n",
    "pdf_10 = compute(10, resolution=100).cpu().numpy()\n",
    "pdf_100 = compute(100, resolution=100).cpu().numpy()\n",
    "pdf_1000 = compute(1000, resolution=100).cpu().numpy()"
   ]
  },
  {
   "cell_type": "code",
   "execution_count": null,
   "metadata": {},
   "outputs": [],
   "source": [
    "figure, axes = plt.subplots(1, 4, figsize=(20, 5), sharey=True)\n",
    "\n",
    "# Plot 1\n",
    "ax = axes[0]\n",
    "plot_2d_posterior(figure, ax, pdf_1, mass, age)\n",
    "ax.set_title(\"1 observable\")\n",
    "\n",
    "# Plot 2\n",
    "ax = axes[1]\n",
    "plot_2d_posterior(figure, ax, pdf_10, mass, age)\n",
    "ax.set_ylabel(None)\n",
    "ax.set_title(\"10 observables\")\n",
    "\n",
    "# Plot 3\n",
    "ax = axes[2]\n",
    "plot_2d_posterior(figure, ax, pdf_100, mass, age)\n",
    "ax.set_ylabel(None)\n",
    "ax.set_title(\"100 observables\")\n",
    "\n",
    "# Plot 4\n",
    "ax = axes[3]\n",
    "plot_2d_posterior(figure, ax, pdf_1000, mass, age)\n",
    "ax.set_ylabel(None)\n",
    "ax.set_title(\"1000 observables\")\n",
    "\n",
    "# Full figure\n",
    "figure.tight_layout()\n",
    "figure.savefig(\"plots/diagnostic_map_convergence.pdf\", bbox_inches='tight')\n",
    "figure.show()"
   ]
  },
  {
   "cell_type": "markdown",
   "metadata": {},
   "source": [
    "## Animation"
   ]
  },
  {
   "cell_type": "code",
   "execution_count": null,
   "metadata": {},
   "outputs": [],
   "source": [
    "from celluloid import Camera\n",
    "\n",
    "figure, ax = plt.subplots(1, 1, figsize=(5, 5))\n",
    "camera = Camera(figure)\n",
    "\n",
    "n = 250\n",
    "res = 100\n",
    "final_pdf = torch.ones(res, res).to(hypothesis.accelerator)\n",
    "final_pdf /= final_pdf.sum()\n",
    "indices = np.arange(n)\n",
    "for index in tqdm(indices):\n",
    "    # Compute the pdf\n",
    "    density = densities[index]\n",
    "    pdf, _, _ = compute_2d_pdf(r, density, resolution=res)\n",
    "    pdf /= pdf.sum()\n",
    "    final_pdf *= pdf\n",
    "    final_pdf /= final_pdf.sum()\n",
    "    # Update the figure\n",
    "    plot_2d_posterior(figure, ax, final_pdf.cpu().numpy(), mass, age)\n",
    "    camera.snap()"
   ]
  },
  {
   "cell_type": "code",
   "execution_count": null,
   "metadata": {},
   "outputs": [],
   "source": [
    "from IPython.display import HTML\n",
    "\n",
    "animation = camera.animate(interval=50, blit=True)\n",
    "HTML(animation.to_html5_video())"
   ]
  },
  {
   "cell_type": "code",
   "execution_count": null,
   "metadata": {},
   "outputs": [],
   "source": [
    "animation.save(\"plots/diagnostic_map_convergence.mp4\",\n",
    "    dpi=100,\n",
    "    savefig_kwargs={\n",
    "        \"frameon\": False,\n",
    "        \"pad_inches\": 0})"
   ]
  }
 ],
 "metadata": {
  "kernelspec": {
   "display_name": "Python 3",
   "language": "python",
   "name": "python3"
  },
  "language_info": {
   "codemirror_mode": {
    "name": "ipython",
    "version": 3
   },
   "file_extension": ".py",
   "mimetype": "text/x-python",
   "name": "python",
   "nbconvert_exporter": "python",
   "pygments_lexer": "ipython3",
   "version": "3.7.6"
  }
 },
 "nbformat": 4,
 "nbformat_minor": 4
}
