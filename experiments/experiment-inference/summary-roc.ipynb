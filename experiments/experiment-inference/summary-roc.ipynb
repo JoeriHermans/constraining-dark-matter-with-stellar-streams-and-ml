{
 "cells": [
  {
   "cell_type": "markdown",
   "metadata": {},
   "source": [
    "# ROC diagnostic"
   ]
  },
  {
   "cell_type": "code",
   "execution_count": null,
   "metadata": {},
   "outputs": [],
   "source": [
    "import hypothesis\n",
    "import numpy as np\n",
    "import glob\n",
    "import matplotlib\n",
    "import pickle\n",
    "import plotting\n",
    "import matplotlib.pyplot as plt\n",
    "import torch\n",
    "\n",
    "from hypothesis.stat import highest_density_level\n",
    "from hypothesis.visualization.util import make_square\n",
    "from matplotlib.colors import LogNorm\n",
    "from matplotlib import rc\n",
    "from plotting import compute_1d_pdf\n",
    "from plotting import compute_2d_pdf\n",
    "from plotting import compute_1d_pdf_abc\n",
    "from plotting import compute_2d_pdf_abc\n",
    "from plotting import plot_1d_pdf\n",
    "from plotting import plot_2d_pdf\n",
    "from plotting import plot_1d_pdf_std\n",
    "from plotting import plot_1d_contours\n",
    "from plotting import plot_2d_contours\n",
    "from plotting import plot_stream\n",
    "from scipy import interpolate\n",
    "from tqdm import tqdm\n",
    "from util import load_ratio_estimator\n",
    "from sklearn import svm, datasets\n",
    "from sklearn.metrics import roc_curve, auc\n",
    "from sklearn.model_selection import train_test_split\n",
    "from sklearn.preprocessing import label_binarize\n",
    "from sklearn.multiclass import OneVsRestClassifier\n",
    "from sklearn.neural_network import MLPClassifier\n",
    "from numpy import interp\n",
    "from sklearn.metrics import roc_auc_score"
   ]
  },
  {
   "cell_type": "markdown",
   "metadata": {},
   "source": [
    "## Utilities"
   ]
  },
  {
   "cell_type": "code",
   "execution_count": null,
   "metadata": {},
   "outputs": [],
   "source": [
    "base_fpr = np.linspace(0, 1, 101)"
   ]
  },
  {
   "cell_type": "code",
   "execution_count": null,
   "metadata": {},
   "outputs": [],
   "source": [
    "def load_experiment(index):\n",
    "    suffix = str(index).zfill(5)\n",
    "    base = \"../experiment-simulations/data/nominal/block-\" + suffix\n",
    "    likelihood_samples = np.load(base + \"/density-contrasts-cut-noised.npy\").astype(np.float32)\n",
    "    nominal = np.array([np.load(base + \"/masses.npy\")[0]]).reshape(1, -1).astype(np.float32)\n",
    "    \n",
    "    return nominal, likelihood_samples"
   ]
  },
  {
   "cell_type": "code",
   "execution_count": null,
   "metadata": {},
   "outputs": [],
   "source": [
    "def load_result(architecture, marginalized=True, mil=False):\n",
    "    if mil:\n",
    "        query = \"out/roc/4096\"\n",
    "    else:\n",
    "        query = \"out/coverage/4096\"\n",
    "    if marginalized:\n",
    "        query += \"/marginalized\"\n",
    "    else:\n",
    "        query += \"/not-marginalized\"\n",
    "    query += \"/selu/roc-\" + architecture + \"-0*.pickle\"\n",
    "    result = {}\n",
    "    result[\"auc\"] = []\n",
    "    result[\"tpr\"] = []\n",
    "    paths = glob.glob(query)\n",
    "    for path in paths:\n",
    "        with open(path, \"rb\") as fh:\n",
    "            data = pickle.load(fh)\n",
    "            data[\"auc\"] = np.mean(data[\"auc\"])\n",
    "            process_tpr(data)\n",
    "            data[\"tpr\"] = np.mean(data[\"tpr\"], axis=0).reshape(1, -1)\n",
    "        result[\"auc\"].append(data[\"auc\"])\n",
    "        result[\"tpr\"].extend(data[\"tpr\"])\n",
    "    result[\"tpr\"] = np.vstack(result[\"tpr\"])\n",
    "        \n",
    "    return result"
   ]
  },
  {
   "cell_type": "code",
   "execution_count": null,
   "metadata": {},
   "outputs": [],
   "source": [
    "@torch.no_grad()\n",
    "def reweigh_samples(marginal_samples, likelihood_samples, nominal, model, batch_size=1):\n",
    "    weights = np.zeros(len(marginal_samples))\n",
    "    inputs = torch.from_numpy(nominal).view(1, -1).float()\n",
    "    ins = inputs.to(hypothesis.accelerator)\n",
    "    inputs = ins.repeat(batch_size, 1)\n",
    "    index = 0\n",
    "    n = len(marginal_samples)\n",
    "    with tqdm(total=n) as pbar:\n",
    "        while index < n:\n",
    "            if (n - index) < batch_size:\n",
    "                batch_size = n - index\n",
    "                inputs = ins.repeat(batch_size, 1)\n",
    "            density = torch.from_numpy(marginal_samples[index:index + batch_size,:]).view(batch_size, -1).float()\n",
    "            density = density.to(hypothesis.accelerator)\n",
    "            weight = model.log_ratio(inputs=inputs, outputs=density).exp().view(-1).cpu().numpy()\n",
    "            weights[index:index + batch_size] = weight\n",
    "            index += batch_size\n",
    "            pbar.update(batch_size)\n",
    "    weights /= np.sum(weights)\n",
    "    sampled_indices = np.random.choice(np.arange(len(weights)), size=len(likelihood_samples), replace=False, p=weights)\n",
    "    reweighted_samples = []\n",
    "    for index in sampled_indices:\n",
    "        reweighted_samples.append(marginal_samples[index].reshape(1, -1))\n",
    "    reweighted_samples = np.vstack(reweighted_samples).astype(np.float32)\n",
    "    \n",
    "    return reweighted_samples"
   ]
  },
  {
   "cell_type": "code",
   "execution_count": null,
   "metadata": {},
   "outputs": [],
   "source": [
    "def process_tpr(result):\n",
    "    processed_tprs = []\n",
    "    for f, t in zip(result[\"fpr\"], result[\"tpr\"]):\n",
    "        t = interp(base_fpr, f, t)\n",
    "        t[0] = 0\n",
    "        processed_tprs.append(t)\n",
    "    result[\"tpr\"] = np.array(processed_tprs)"
   ]
  },
  {
   "cell_type": "markdown",
   "metadata": {},
   "source": [
    "## Baseline"
   ]
  },
  {
   "cell_type": "code",
   "execution_count": null,
   "metadata": {},
   "outputs": [],
   "source": [
    "marginal_samples = np.load(\"../experiment-simulations/data/train/density-contrasts-cut-noised.npy\")"
   ]
  },
  {
   "cell_type": "code",
   "execution_count": null,
   "metadata": {},
   "outputs": [],
   "source": [
    "result = {}\n",
    "aucs = []\n",
    "fprs = []\n",
    "tprs = []\n",
    "for experiment_index in range(10):\n",
    "    nominal, likelihood_samples = load_experiment(experiment_index)\n",
    "    for _ in range(1):\n",
    "        reweighted_samples = marginal_samples[np.random.randint(0, 10000000, size=10000)].astype(np.float32)\n",
    "        likelihood_samples = torch.tensor(likelihood_samples)\n",
    "        reweighted_samples = torch.tensor(reweighted_samples)\n",
    "        x = torch.cat([reweighted_samples, likelihood_samples], dim=0)\n",
    "        n = len(likelihood_samples)\n",
    "        ones = torch.ones(n).view(-1, 1)\n",
    "        zeros = torch.zeros(n).view(-1, 1)\n",
    "        y = torch.cat([ones, zeros], dim=0)\n",
    "        x = x.numpy()\n",
    "        y = y.numpy()\n",
    "        x_train, x_test, y_train, y_test = train_test_split(x, y, test_size=0.25, shuffle=True)\n",
    "        classifier = MLPClassifier(hidden_layer_sizes=(128, 128,), max_iter=1000)\n",
    "        classifier.fit(x_train, y_train.reshape(-1))\n",
    "        y_score = classifier.predict_proba(x_test)\n",
    "        fpr, tpr, _ = roc_curve(y_test, y_score[:, 1])\n",
    "        roc_auc = auc(fpr, tpr)\n",
    "        fprs.append(fpr)\n",
    "        tprs.append(tpr)\n",
    "        aucs.append(roc_auc)\n",
    "result[\"auc\"] = aucs\n",
    "result[\"fpr\"] = fprs\n",
    "result[\"tpr\"] = tprs\n",
    "\n",
    "baseline_result = result\n",
    "process_tpr(baseline_result)"
   ]
  },
  {
   "cell_type": "markdown",
   "metadata": {},
   "source": [
    "## Architectures"
   ]
  },
  {
   "cell_type": "markdown",
   "metadata": {},
   "source": [
    "#### MLP"
   ]
  },
  {
   "cell_type": "code",
   "execution_count": null,
   "metadata": {},
   "outputs": [],
   "source": [
    "mlp_result = load_result(\"mlp\")"
   ]
  },
  {
   "cell_type": "markdown",
   "metadata": {},
   "source": [
    "#### MLP (1 million samples)"
   ]
  },
  {
   "cell_type": "code",
   "execution_count": null,
   "metadata": {},
   "outputs": [],
   "source": [
    "mlp_1m_result = load_result(\"mlp\", mil=True)"
   ]
  },
  {
   "cell_type": "markdown",
   "metadata": {},
   "source": [
    "#### MLP-BN"
   ]
  },
  {
   "cell_type": "code",
   "execution_count": null,
   "metadata": {},
   "outputs": [],
   "source": [
    "mlp_bn_result = load_result(\"mlp-bn\")"
   ]
  },
  {
   "cell_type": "markdown",
   "metadata": {},
   "source": [
    "#### ResNet-18"
   ]
  },
  {
   "cell_type": "code",
   "execution_count": null,
   "metadata": {},
   "outputs": [],
   "source": [
    "resnet_18_result = load_result(\"resnet-18\")"
   ]
  },
  {
   "cell_type": "markdown",
   "metadata": {},
   "source": [
    "#### ResNet-18-BN"
   ]
  },
  {
   "cell_type": "code",
   "execution_count": null,
   "metadata": {},
   "outputs": [],
   "source": [
    "resnet_18_bn_result = load_result(\"resnet-18-bn\")"
   ]
  },
  {
   "cell_type": "markdown",
   "metadata": {},
   "source": [
    "#### ResNet-50"
   ]
  },
  {
   "cell_type": "code",
   "execution_count": null,
   "metadata": {},
   "outputs": [],
   "source": [
    "resnet_50_result = load_result(\"resnet-50\")"
   ]
  },
  {
   "cell_type": "markdown",
   "metadata": {},
   "source": [
    "#### ResNet-50-BN"
   ]
  },
  {
   "cell_type": "code",
   "execution_count": null,
   "metadata": {},
   "outputs": [],
   "source": [
    "resnet_50_bn_result = load_result(\"resnet-50-bn\")"
   ]
  },
  {
   "cell_type": "markdown",
   "metadata": {},
   "source": [
    "## Plot"
   ]
  },
  {
   "cell_type": "code",
   "execution_count": null,
   "metadata": {},
   "outputs": [],
   "source": [
    "nominals = []\n",
    "for experiment_index in range(10):\n",
    "    nominal, _ = load_experiment(experiment_index)\n",
    "    nominals.append(nominal.reshape(-1))"
   ]
  },
  {
   "cell_type": "code",
   "execution_count": null,
   "metadata": {},
   "outputs": [],
   "source": [
    "figure, axes = plt.subplots(nrows=1, ncols=2, figsize=(14, 7))\n",
    "\n",
    "# ROC CURVE\n",
    "ax = axes[0]\n",
    "make_square(ax)\n",
    "\n",
    "# Diagonal\n",
    "ax.plot([0, 1], [0, 1], color=\"black\", linestyle='--', alpha=.5, lw=2)\n",
    "\n",
    "# Baseline\n",
    "#m = np.mean(baseline_result[\"tpr\"], axis=0)\n",
    "#s = np.std(baseline_result[\"tpr\"], axis=0)\n",
    "#ax.plot(base_fpr, m, color=\"black\", lw=2)\n",
    "#ax.fill_between(base_fpr, m - s, m + s, color=\"black\", alpha=.1)\n",
    "\n",
    "# MLP\n",
    "m = np.mean(mlp_result[\"tpr\"], axis=0)\n",
    "s = np.std(mlp_result[\"tpr\"], axis=0)\n",
    "auc =  str(round(np.mean(mlp_result[\"auc\"]), 3))\n",
    "ax.plot(base_fpr, m, lw=2, label=r\"$\\textsc{mlp}$ (\\textsc{auc} = \" + auc + ')', color=\"C0\")\n",
    "print(\"AUC MLP:\", np.mean(mlp_result[\"auc\"]), \"±\", np.std(mlp_result[\"auc\"]))\n",
    "\n",
    "# MLP-BN\n",
    "m = np.mean(mlp_bn_result[\"tpr\"], axis=0)\n",
    "s = np.std(mlp_bn_result[\"tpr\"], axis=0)\n",
    "auc =  str(round(np.mean(mlp_bn_result[\"auc\"]), 3))\n",
    "ax.plot(base_fpr, m, lw=2, label=r\"$\\textsc{mlp-bn}$ (\\textsc{auc} = \" + auc + ')', color=\"C0\", alpha=.5)\n",
    "print(\"AUC MLP-BN:\", np.mean(mlp_bn_result[\"auc\"]), \"±\", np.std(mlp_bn_result[\"auc\"]))\n",
    "\n",
    "# ResNet-18\n",
    "m = np.mean(resnet_18_result[\"tpr\"], axis=0)\n",
    "s = np.std(resnet_18_result[\"tpr\"], axis=0)\n",
    "auc =  str(round(np.mean(resnet_18_result[\"auc\"]), 3))\n",
    "ax.plot(base_fpr, m, lw=2, label=r\"$\\textsc{resnet-18}$ (\\textsc{auc} = \" + auc + ')', color=\"C2\")\n",
    "print(\"AUC ResNet-18:\", np.mean(resnet_18_result[\"auc\"]), \"±\", np.std(resnet_18_result[\"auc\"]))\n",
    "\n",
    "# ResNet-18-BN\n",
    "m = np.mean(resnet_18_bn_result[\"tpr\"], axis=0)\n",
    "s = np.std(resnet_18_bn_result[\"tpr\"], axis=0)\n",
    "auc =  str(round(np.mean(resnet_18_bn_result[\"auc\"]), 3))\n",
    "ax.plot(base_fpr, m, lw=2, label=r\"$\\textsc{resnet-18-bn}$ (\\textsc{auc} = \" + auc + ')', color=\"C2\", alpha=.5)\n",
    "print(\"AUC ResNet-18-BN:\", np.mean(resnet_18_bn_result[\"auc\"]), \"±\", np.std(resnet_18_bn_result[\"auc\"]))\n",
    "\n",
    "# ResNet-50\n",
    "m = np.mean(resnet_50_result[\"tpr\"], axis=0)\n",
    "s = np.std(resnet_50_result[\"tpr\"], axis=0)\n",
    "auc =  str(round(np.mean(resnet_50_result[\"auc\"]), 3))\n",
    "ax.plot(base_fpr, m, lw=2, label=r\"$\\textsc{resnet-50}$ (\\textsc{auc} = \" + auc + ')', color=\"C3\")\n",
    "print(\"AUC ResNet-50:\", np.mean(resnet_50_result[\"auc\"]), \"±\", np.std(resnet_50_result[\"auc\"]))\n",
    "\n",
    "# ResNet-50\n",
    "m = np.mean(resnet_50_bn_result[\"tpr\"], axis=0)\n",
    "s = np.std(resnet_50_bn_result[\"tpr\"], axis=0)\n",
    "auc =  str(round(np.mean(resnet_50_bn_result[\"auc\"]), 3))\n",
    "ax.plot(base_fpr, m, lw=2, label=r\"$\\textsc{resnet-50-bn}$ (\\textsc{auc} = \" + auc + ')', color=\"C3\", alpha=.5)\n",
    "print(\"AUC ResNet-50-BN:\", np.mean(resnet_50_bn_result[\"auc\"]), \"±\", np.std(resnet_50_bn_result[\"auc\"]))\n",
    "\n",
    "ax.minorticks_on()\n",
    "ax.grid(True, which=\"both\", alpha=.1)\n",
    "ax.set_xlabel(\"False positive rate\")\n",
    "ax.set_ylabel(\"True positive rate\")\n",
    "ax.set_title(\"Receiver operating curve diagnostic\")\n",
    "ax.legend()\n",
    "\n",
    "\n",
    "# AUC vs. m_wdm\n",
    "ax = axes[1]\n",
    "ax.minorticks_on()\n",
    "results = []\n",
    "for experimental_index in range(10):\n",
    "    aucs = [\n",
    "        mlp_result[\"auc\"][experimental_index],\n",
    "        mlp_bn_result[\"auc\"][experimental_index],\n",
    "        resnet_18_result[\"auc\"][experimental_index],\n",
    "        resnet_18_bn_result[\"auc\"][experimental_index]]\n",
    "        #resnet_50_result[\"auc\"][experimental_index]]\n",
    "        # resnet_50_bn_result[\"auc\"][experimental_index]]\n",
    "    results.append(aucs)\n",
    "    \n",
    "for index, result in enumerate(results):\n",
    "    ax.scatter(nominals[index], np.mean(result), color=\"black\")\n",
    "    ax.errorbar(nominals[index], np.mean(result), np.std(result), color=\"black\", capsize=5)\n",
    "#ax.set_xlim([0, 50])\n",
    "#ax.yaxis.set_label_position(\"right\")\n",
    "#ax.yaxis.tick_right()\n",
    "ax.set_title(r\"Area under curve with respect to $m_\\textsc{wdm}$\")\n",
    "ax.set_ylabel(\"Area under curve\")\n",
    "ax.set_xlabel(r\"$m_\\textsc{wdm}$\")\n",
    "ax.grid(True, which=\"both\", alpha=0.1)\n",
    "make_square(ax)\n",
    "\n",
    "figure.tight_layout()\n",
    "figure.savefig(\"plots/roc.pdf\", bbox_inches=\"tight\")\n",
    "figure.show()"
   ]
  },
  {
   "cell_type": "markdown",
   "metadata": {},
   "source": [
    "## Comparison against 1 million training samples"
   ]
  },
  {
   "cell_type": "code",
   "execution_count": null,
   "metadata": {},
   "outputs": [],
   "source": [
    "figure, axes = plt.subplots(nrows=1, ncols=2, figsize=(14, 7))\n",
    "\n",
    "# ROC CURVE\n",
    "ax = axes[0]\n",
    "make_square(ax)\n",
    "\n",
    "# Diagonal\n",
    "ax.plot([0, 1], [0, 1], color=\"black\", linestyle='--', alpha=.5, lw=2)\n",
    "\n",
    "# Baseline\n",
    "#m = np.mean(baseline_result[\"tpr\"], axis=0)\n",
    "#s = np.std(baseline_result[\"tpr\"], axis=0)\n",
    "#ax.plot(base_fpr, m, color=\"black\", lw=2)\n",
    "#ax.fill_between(base_fpr, m - s, m + s, color=\"black\", alpha=.1)\n",
    "\n",
    "# MLP\n",
    "m = np.mean(mlp_result[\"tpr\"], axis=0)\n",
    "s = np.std(mlp_result[\"tpr\"], axis=0)\n",
    "auc =  str(round(np.mean(mlp_result[\"auc\"]), 3))\n",
    "ax.plot(base_fpr, m, lw=2, label=r\"$\\textsc{mlp}$ (\\textsc{auc} = \" + auc + ')', color=\"black\", alpha=.5)\n",
    "print(\"AUC MLP:\", np.mean(mlp_result[\"auc\"]), \"±\", np.std(mlp_result[\"auc\"]))\n",
    "\n",
    "mlp_1m_result = load_result(\"mlp\", mil=True)\n",
    "\n",
    "# MLP (1 million)\n",
    "m = np.mean(mlp_1m_result[\"tpr\"], axis=0)\n",
    "s = np.std(mlp_1m_result[\"tpr\"], axis=0)\n",
    "auc =  str(round(np.mean(mlp_1m_result[\"auc\"]), 3))\n",
    "ax.plot(base_fpr, m, lw=2, label=r\"$\\textsc{mlp}$ (\\textsc{auc} = \" + auc + ')', color=\"black\")\n",
    "print(\"AUC MLP (1 million):\", np.mean(mlp_1m_result[\"auc\"]), \"±\", np.std(mlp_1m_result[\"auc\"]))\n",
    "\n",
    "ax.minorticks_on()\n",
    "ax.grid(True, which=\"both\", alpha=.1)\n",
    "ax.set_xlabel(\"False positive rate\")\n",
    "ax.set_ylabel(\"True positive rate\")\n",
    "ax.set_title(\"Receiver operating curve diagnostic\")\n",
    "ax.legend()\n",
    "\n",
    "\n",
    "# AUC vs. m_wdm\n",
    "ax = axes[1]\n",
    "ax.minorticks_on()\n",
    "results = []\n",
    "for experimental_index in range(10):\n",
    "    aucs = [\n",
    "        mlp_result[\"auc\"][experimental_index],\n",
    "        mlp_bn_result[\"auc\"][experimental_index],\n",
    "        resnet_18_result[\"auc\"][experimental_index],\n",
    "        resnet_18_bn_result[\"auc\"][experimental_index]]\n",
    "        #resnet_50_result[\"auc\"][experimental_index]]\n",
    "        # resnet_50_bn_result[\"auc\"][experimental_index]]\n",
    "    results.append(aucs)\n",
    "    \n",
    "for index, result in enumerate(results):\n",
    "    ax.scatter(nominals[index], np.mean(result), color=\"black\")\n",
    "    ax.errorbar(nominals[index], np.mean(result), np.std(result), color=\"black\", capsize=5)\n",
    "#ax.set_xlim([0, 50])\n",
    "#ax.yaxis.set_label_position(\"right\")\n",
    "#ax.yaxis.tick_right()\n",
    "ax.set_title(r\"Area under curve with respect to $m_\\textsc{wdm}$\")\n",
    "ax.set_ylabel(\"Area under curve\")\n",
    "ax.set_xlabel(r\"$m_\\textsc{wdm}$\")\n",
    "ax.grid(True, which=\"both\", alpha=0.1)\n",
    "make_square(ax)\n",
    "\n",
    "figure.tight_layout()\n",
    "figure.savefig(\"plots/roc-1mil-comparison.pdf\", bbox_inches=\"tight\")\n",
    "figure.show()"
   ]
  },
  {
   "cell_type": "code",
   "execution_count": null,
   "metadata": {},
   "outputs": [],
   "source": [
    "mlp_result[\"auc\"]"
   ]
  },
  {
   "cell_type": "code",
   "execution_count": null,
   "metadata": {},
   "outputs": [],
   "source": [
    "mlp_1m_result[\"auc\"]"
   ]
  },
  {
   "cell_type": "code",
   "execution_count": null,
   "metadata": {},
   "outputs": [],
   "source": []
  }
 ],
 "metadata": {
  "kernelspec": {
   "display_name": "Python 3",
   "language": "python",
   "name": "python3"
  },
  "language_info": {
   "codemirror_mode": {
    "name": "ipython",
    "version": 3
   },
   "file_extension": ".py",
   "mimetype": "text/x-python",
   "name": "python",
   "nbconvert_exporter": "python",
   "pygments_lexer": "ipython3",
   "version": "3.7.6"
  }
 },
 "nbformat": 4,
 "nbformat_minor": 4
}
