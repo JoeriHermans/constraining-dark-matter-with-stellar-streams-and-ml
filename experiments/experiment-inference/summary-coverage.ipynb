{
 "cells": [
  {
   "cell_type": "markdown",
   "metadata": {},
   "source": [
    "# Coverage summary"
   ]
  },
  {
   "cell_type": "code",
   "execution_count": null,
   "metadata": {},
   "outputs": [],
   "source": [
    "import hypothesis\n",
    "import numpy as np\n",
    "import glob\n",
    "import matplotlib\n",
    "import plotting\n",
    "import matplotlib.pyplot as plt\n",
    "import torch\n",
    "\n",
    "from hypothesis.stat import highest_density_level\n",
    "from hypothesis.visualization.util import make_square\n",
    "from matplotlib.colors import LogNorm\n",
    "from matplotlib import rc\n",
    "from plotting import compute_1d_pdf\n",
    "from plotting import compute_2d_pdf\n",
    "from plotting import compute_1d_pdf_abc\n",
    "from plotting import compute_2d_pdf_abc\n",
    "from plotting import plot_1d_pdf\n",
    "from plotting import plot_2d_pdf\n",
    "from plotting import plot_1d_pdf_std\n",
    "from plotting import plot_1d_contours\n",
    "from plotting import plot_2d_contours\n",
    "from plotting import plot_stream\n",
    "from tqdm import tqdm\n",
    "from util import load_ratio_estimator\n",
    "from util import MarginalizedAgePrior"
   ]
  },
  {
   "cell_type": "markdown",
   "metadata": {},
   "source": [
    "## Utilities"
   ]
  },
  {
   "cell_type": "code",
   "execution_count": null,
   "metadata": {},
   "outputs": [],
   "source": [
    "def fetch_coverage(model, level, frequentist=False):\n",
    "    # Fetch the results\n",
    "    prefix = \"coverage-\"\n",
    "    if frequentist:\n",
    "        prefix += \"frequentist-\"\n",
    "    if \"not-marginalized\" not in model:\n",
    "        query = \"out/coverage/*/marginalized/selu/\" + prefix + str(level) + \"*\" + model + \"*.npy\"\n",
    "        paths = glob.glob(query)\n",
    "    else:\n",
    "        query = \"out/coverage/*/not-marginalized/selu/\" + prefix + str(level) + \"*\" + model + \"*.npy\"\n",
    "        paths = glob.glob(query)\n",
    "    coverages = []\n",
    "    for path in paths:\n",
    "        result = np.load(path)\n",
    "        coverages.append(result.sum() / len(result))\n",
    "    if len(coverages) == 0:\n",
    "        raise ValueError(\"No results available!\")\n",
    "    coverages = np.array(coverages)\n",
    "    m = round(np.mean(coverages), 3)\n",
    "    s = round(np.std(coverages), 3)\n",
    "\n",
    "    return m, s"
   ]
  },
  {
   "cell_type": "markdown",
   "metadata": {},
   "source": [
    "## Bayesian results"
   ]
  },
  {
   "cell_type": "markdown",
   "metadata": {},
   "source": [
    "### Marginalized"
   ]
  },
  {
   "cell_type": "markdown",
   "metadata": {},
   "source": [
    "#### MLP"
   ]
  },
  {
   "cell_type": "code",
   "execution_count": null,
   "metadata": {},
   "outputs": [],
   "source": [
    "mean, std = fetch_coverage(\"mlp-marginalized\", level=.997, frequentist=False)\n",
    "print(mean, \"±\", std)\n",
    "\n",
    "mean, std = fetch_coverage(\"mlp-marginalized\", level=.95, frequentist=False)\n",
    "print(mean, \"±\", std)\n",
    "\n",
    "mean, std = fetch_coverage(\"mlp-marginalized\", level=.68, frequentist=False)\n",
    "print(mean, \"±\", std)"
   ]
  },
  {
   "cell_type": "markdown",
   "metadata": {},
   "source": [
    "#### MLP-BN"
   ]
  },
  {
   "cell_type": "code",
   "execution_count": null,
   "metadata": {},
   "outputs": [],
   "source": [
    "mean, std = fetch_coverage(\"mlp-bn-marginalized\", level=.997, frequentist=False)\n",
    "print(mean, \"±\", std)\n",
    "\n",
    "mean, std = fetch_coverage(\"mlp-bn-marginalized\", level=.95, frequentist=False)\n",
    "print(mean, \"±\", std)\n",
    "\n",
    "mean, std = fetch_coverage(\"mlp-bn-marginalized\", level=.68, frequentist=False)\n",
    "print(mean, \"±\", std)"
   ]
  },
  {
   "cell_type": "markdown",
   "metadata": {},
   "source": [
    "#### ResNet-18"
   ]
  },
  {
   "cell_type": "code",
   "execution_count": null,
   "metadata": {},
   "outputs": [],
   "source": [
    "mean, std = fetch_coverage(\"resnet-18-marginalized\", level=.997, frequentist=False)\n",
    "print(mean, \"±\", std)\n",
    "\n",
    "mean, std = fetch_coverage(\"resnet-18-marginalized\", level=.95, frequentist=False)\n",
    "print(mean, \"±\", std)\n",
    "\n",
    "mean, std = fetch_coverage(\"resnet-18-marginalized\", level=.68, frequentist=False)\n",
    "print(mean, \"±\", std)"
   ]
  },
  {
   "cell_type": "markdown",
   "metadata": {},
   "source": [
    "#### ResNet-18-BN"
   ]
  },
  {
   "cell_type": "code",
   "execution_count": null,
   "metadata": {},
   "outputs": [],
   "source": [
    "mean, std = fetch_coverage(\"resnet-18-bn-marginalized\", level=.997, frequentist=False)\n",
    "print(mean, \"±\", std)\n",
    "\n",
    "mean, std = fetch_coverage(\"resnet-18-bn-marginalized\", level=.95, frequentist=False)\n",
    "print(mean, \"±\", std)\n",
    "\n",
    "mean, std = fetch_coverage(\"resnet-18-bn-marginalized\", level=.68, frequentist=False)\n",
    "print(mean, \"±\", std)"
   ]
  },
  {
   "cell_type": "markdown",
   "metadata": {},
   "source": [
    "#### ResNet-50"
   ]
  },
  {
   "cell_type": "code",
   "execution_count": null,
   "metadata": {},
   "outputs": [],
   "source": [
    "mean, std = fetch_coverage(\"resnet-50-marginalized\", level=.997, frequentist=False)\n",
    "print(mean, \"±\", std)\n",
    "\n",
    "mean, std = fetch_coverage(\"resnet-50-marginalized\", level=.95, frequentist=False)\n",
    "print(mean, \"±\", std)\n",
    "\n",
    "mean, std = fetch_coverage(\"resnet-50-marginalized\", level=.68, frequentist=False)\n",
    "print(mean, \"±\", std)"
   ]
  },
  {
   "cell_type": "markdown",
   "metadata": {},
   "source": [
    "#### ResNet-50-BN"
   ]
  },
  {
   "cell_type": "code",
   "execution_count": null,
   "metadata": {},
   "outputs": [],
   "source": [
    "mean, std = fetch_coverage(\"resnet-50-bn-marginalized\", level=.997, frequentist=False)\n",
    "print(mean, \"±\", std)\n",
    "\n",
    "mean, std = fetch_coverage(\"resnet-50-bn-marginalized\", level=.95, frequentist=False)\n",
    "print(mean, \"±\", std)\n",
    "\n",
    "mean, std = fetch_coverage(\"resnet-50-bn-marginalized\", level=.68, frequentist=False)\n",
    "print(mean, \"±\", std)"
   ]
  },
  {
   "cell_type": "markdown",
   "metadata": {},
   "source": [
    "### Not marginalized"
   ]
  },
  {
   "cell_type": "markdown",
   "metadata": {},
   "source": [
    "#### MLP"
   ]
  },
  {
   "cell_type": "code",
   "execution_count": null,
   "metadata": {},
   "outputs": [],
   "source": [
    "mean, std = fetch_coverage(\"mlp-not-marginalized\", level=.997, frequentist=False)\n",
    "print(mean, \"±\", std)\n",
    "\n",
    "mean, std = fetch_coverage(\"mlp-not-marginalized\", level=.95, frequentist=False)\n",
    "print(mean, \"±\", std)\n",
    "\n",
    "mean, std = fetch_coverage(\"mlp-not-marginalized\", level=.68, frequentist=False)\n",
    "print(mean, \"±\", std)"
   ]
  },
  {
   "cell_type": "markdown",
   "metadata": {},
   "source": [
    "#### MLP-BN"
   ]
  },
  {
   "cell_type": "code",
   "execution_count": null,
   "metadata": {},
   "outputs": [],
   "source": [
    "mean, std = fetch_coverage(\"mlp-bn-not-marginalized\", level=.997, frequentist=False)\n",
    "print(mean, \"±\", std)\n",
    "\n",
    "mean, std = fetch_coverage(\"mlp-bn-not-marginalized\", level=.95, frequentist=False)\n",
    "print(mean, \"±\", std)\n",
    "\n",
    "mean, std = fetch_coverage(\"mlp-bn-not-marginalized\", level=.68, frequentist=False)\n",
    "print(mean, \"±\", std)"
   ]
  },
  {
   "cell_type": "markdown",
   "metadata": {},
   "source": [
    "#### ResNet-18"
   ]
  },
  {
   "cell_type": "code",
   "execution_count": null,
   "metadata": {},
   "outputs": [],
   "source": [
    "mean, std = fetch_coverage(\"resnet-18-not-marginalized\", level=.997, frequentist=False)\n",
    "print(mean, \"±\", std)\n",
    "\n",
    "mean, std = fetch_coverage(\"resnet-18-not-marginalized\", level=.95, frequentist=False)\n",
    "print(mean, \"±\", std)\n",
    "\n",
    "mean, std = fetch_coverage(\"resnet-18-not-marginalized\", level=.68, frequentist=False)\n",
    "print(mean, \"±\", std)"
   ]
  },
  {
   "cell_type": "markdown",
   "metadata": {},
   "source": [
    "#### ResNet-18-BN"
   ]
  },
  {
   "cell_type": "code",
   "execution_count": null,
   "metadata": {},
   "outputs": [],
   "source": [
    "mean, std = fetch_coverage(\"resnet-18-bn-not-marginalized\", level=.997, frequentist=False)\n",
    "print(mean, \"±\", std)\n",
    "\n",
    "mean, std = fetch_coverage(\"resnet-18-bn-not-marginalized\", level=.95, frequentist=False)\n",
    "print(mean, \"±\", std)\n",
    "\n",
    "mean, std = fetch_coverage(\"resnet-18-bn-not-marginalized\", level=.68, frequentist=False)\n",
    "print(mean, \"±\", std)"
   ]
  },
  {
   "cell_type": "markdown",
   "metadata": {},
   "source": [
    "#### ResNet-50"
   ]
  },
  {
   "cell_type": "code",
   "execution_count": null,
   "metadata": {},
   "outputs": [],
   "source": [
    "mean, std = fetch_coverage(\"resnet-50-not-marginalized\", level=.997, frequentist=False)\n",
    "print(mean, \"±\", std)\n",
    "\n",
    "mean, std = fetch_coverage(\"resnet-50-not-marginalized\", level=.95, frequentist=False)\n",
    "print(mean, \"±\", std)\n",
    "\n",
    "mean, std = fetch_coverage(\"resnet-50-not-marginalized\", level=.68, frequentist=False)\n",
    "print(mean, \"±\", std)"
   ]
  },
  {
   "cell_type": "markdown",
   "metadata": {},
   "source": [
    "#### ResNet-50-BN"
   ]
  },
  {
   "cell_type": "code",
   "execution_count": null,
   "metadata": {},
   "outputs": [],
   "source": [
    "mean, std = fetch_coverage(\"resnet-50-bn-not-marginalized\", level=.997, frequentist=False)\n",
    "print(mean, \"±\", std)\n",
    "\n",
    "mean, std = fetch_coverage(\"resnet-50-bn-not-marginalized\", level=.95, frequentist=False)\n",
    "print(mean, \"±\", std)\n",
    "\n",
    "mean, std = fetch_coverage(\"resnet-50-bn-not-marginalized\", level=.68, frequentist=False)\n",
    "print(mean, \"±\", std)"
   ]
  },
  {
   "cell_type": "markdown",
   "metadata": {},
   "source": [
    "## Frequentist results"
   ]
  },
  {
   "cell_type": "markdown",
   "metadata": {},
   "source": [
    "### Marginalized"
   ]
  },
  {
   "cell_type": "markdown",
   "metadata": {},
   "source": [
    "#### MLP"
   ]
  },
  {
   "cell_type": "code",
   "execution_count": null,
   "metadata": {},
   "outputs": [],
   "source": [
    "mean, std = fetch_coverage(\"mlp-marginalized\", level=.997, frequentist=True)\n",
    "print(mean, \"±\", std)\n",
    "\n",
    "mean, std = fetch_coverage(\"mlp-marginalized\", level=.95, frequentist=True)\n",
    "print(mean, \"±\", std)\n",
    "\n",
    "mean, std = fetch_coverage(\"mlp-marginalized\", level=.68, frequentist=True)\n",
    "print(mean, \"±\", std)"
   ]
  },
  {
   "cell_type": "markdown",
   "metadata": {},
   "source": [
    "#### MLP-BN"
   ]
  },
  {
   "cell_type": "code",
   "execution_count": null,
   "metadata": {},
   "outputs": [],
   "source": [
    "mean, std = fetch_coverage(\"mlp-bn-marginalized\", level=.997, frequentist=True)\n",
    "print(mean, \"±\", std)\n",
    "\n",
    "mean, std = fetch_coverage(\"mlp-bn-marginalized\", level=.95, frequentist=True)\n",
    "print(mean, \"±\", std)\n",
    "\n",
    "mean, std = fetch_coverage(\"mlp-bn-marginalized\", level=.68, frequentist=True)\n",
    "print(mean, \"±\", std)"
   ]
  },
  {
   "cell_type": "markdown",
   "metadata": {},
   "source": [
    "#### ResNet-18"
   ]
  },
  {
   "cell_type": "code",
   "execution_count": null,
   "metadata": {},
   "outputs": [],
   "source": [
    "mean, std = fetch_coverage(\"resnet-18-marginalized\", level=.997, frequentist=True)\n",
    "print(mean, \"±\", std)\n",
    "\n",
    "mean, std = fetch_coverage(\"resnet-18-marginalized\", level=.95, frequentist=True)\n",
    "print(mean, \"±\", std)\n",
    "\n",
    "mean, std = fetch_coverage(\"resnet-18-marginalized\", level=.68, frequentist=True)\n",
    "print(mean, \"±\", std)"
   ]
  },
  {
   "cell_type": "markdown",
   "metadata": {},
   "source": [
    "#### ResNet-18-BN"
   ]
  },
  {
   "cell_type": "code",
   "execution_count": null,
   "metadata": {},
   "outputs": [],
   "source": [
    "mean, std = fetch_coverage(\"resnet-18-bn-marginalized\", level=.997, frequentist=True)\n",
    "print(mean, \"±\", std)\n",
    "\n",
    "mean, std = fetch_coverage(\"resnet-18-bn-marginalized\", level=.95, frequentist=True)\n",
    "print(mean, \"±\", std)\n",
    "\n",
    "mean, std = fetch_coverage(\"resnet-18-bn-marginalized\", level=.68, frequentist=True)\n",
    "print(mean, \"±\", std)"
   ]
  },
  {
   "cell_type": "markdown",
   "metadata": {},
   "source": [
    "#### ResNet-50"
   ]
  },
  {
   "cell_type": "code",
   "execution_count": null,
   "metadata": {},
   "outputs": [],
   "source": [
    "mean, std = fetch_coverage(\"resnet-50-marginalized\", level=.997, frequentist=True)\n",
    "print(mean, \"±\", std)\n",
    "\n",
    "mean, std = fetch_coverage(\"resnet-50-marginalized\", level=.95, frequentist=True)\n",
    "print(mean, \"±\", std)\n",
    "\n",
    "mean, std = fetch_coverage(\"resnet-50-marginalized\", level=.68, frequentist=True)\n",
    "print(mean, \"±\", std)"
   ]
  },
  {
   "cell_type": "markdown",
   "metadata": {},
   "source": [
    "#### ResNet-50-BN"
   ]
  },
  {
   "cell_type": "code",
   "execution_count": null,
   "metadata": {},
   "outputs": [],
   "source": [
    "mean, std = fetch_coverage(\"resnet-50-bn-marginalized\", level=.997, frequentist=True)\n",
    "print(mean, \"±\", std)\n",
    "\n",
    "mean, std = fetch_coverage(\"resnet-50-bn-marginalized\", level=.95, frequentist=True)\n",
    "print(mean, \"±\", std)\n",
    "\n",
    "mean, std = fetch_coverage(\"resnet-50-bn-marginalized\", level=.68, frequentist=True)\n",
    "print(mean, \"±\", std)"
   ]
  },
  {
   "cell_type": "markdown",
   "metadata": {},
   "source": [
    "### Not marginalized"
   ]
  },
  {
   "cell_type": "markdown",
   "metadata": {},
   "source": [
    "#### MLP"
   ]
  },
  {
   "cell_type": "code",
   "execution_count": null,
   "metadata": {},
   "outputs": [],
   "source": [
    "mean, std = fetch_coverage(\"mlp-not-marginalized\", level=.997, frequentist=True)\n",
    "print(mean, \"±\", std)\n",
    "\n",
    "mean, std = fetch_coverage(\"mlp-not-marginalized\", level=.95, frequentist=True)\n",
    "print(mean, \"±\", std)\n",
    "\n",
    "mean, std = fetch_coverage(\"mlp-not-marginalized\", level=.68, frequentist=True)\n",
    "print(mean, \"±\", std)"
   ]
  },
  {
   "cell_type": "markdown",
   "metadata": {},
   "source": [
    "#### MLP-BN"
   ]
  },
  {
   "cell_type": "code",
   "execution_count": null,
   "metadata": {},
   "outputs": [],
   "source": [
    "mean, std = fetch_coverage(\"mlp-bn-not-marginalized\", level=.997, frequentist=True)\n",
    "print(mean, \"±\", std)\n",
    "\n",
    "mean, std = fetch_coverage(\"mlp-bn-not-marginalized\", level=.95, frequentist=True)\n",
    "print(mean, \"±\", std)\n",
    "\n",
    "mean, std = fetch_coverage(\"mlp-bn-not-marginalized\", level=.68, frequentist=True)\n",
    "print(mean, \"±\", std)"
   ]
  },
  {
   "cell_type": "markdown",
   "metadata": {},
   "source": [
    "#### ResNet-18"
   ]
  },
  {
   "cell_type": "code",
   "execution_count": null,
   "metadata": {},
   "outputs": [],
   "source": [
    "mean, std = fetch_coverage(\"resnet-18-not-marginalized\", level=.997, frequentist=True)\n",
    "print(mean, \"±\", std)\n",
    "\n",
    "mean, std = fetch_coverage(\"resnet-18-not-marginalized\", level=.95, frequentist=True)\n",
    "print(mean, \"±\", std)\n",
    "\n",
    "mean, std = fetch_coverage(\"resnet-18-not-marginalized\", level=.68, frequentist=True)\n",
    "print(mean, \"±\", std)"
   ]
  },
  {
   "cell_type": "markdown",
   "metadata": {},
   "source": [
    "#### ResNet-18-BN"
   ]
  },
  {
   "cell_type": "code",
   "execution_count": null,
   "metadata": {},
   "outputs": [],
   "source": [
    "mean, std = fetch_coverage(\"resnet-18-bn-not-marginalized\", level=.997, frequentist=True)\n",
    "print(mean, \"±\", std)\n",
    "\n",
    "mean, std = fetch_coverage(\"resnet-18-bn-not-marginalized\", level=.95, frequentist=True)\n",
    "print(mean, \"±\", std)\n",
    "\n",
    "mean, std = fetch_coverage(\"resnet-18-bn-not-marginalized\", level=.68, frequentist=True)\n",
    "print(mean, \"±\", std)"
   ]
  },
  {
   "cell_type": "markdown",
   "metadata": {},
   "source": [
    "#### ResNet-50"
   ]
  },
  {
   "cell_type": "code",
   "execution_count": null,
   "metadata": {},
   "outputs": [],
   "source": [
    "mean, std = fetch_coverage(\"resnet-50-not-marginalized\", level=.997, frequentist=True)\n",
    "print(mean, \"±\", std)\n",
    "\n",
    "mean, std = fetch_coverage(\"resnet-50-not-marginalized\", level=.95, frequentist=True)\n",
    "print(mean, \"±\", std)\n",
    "\n",
    "mean, std = fetch_coverage(\"resnet-50-not-marginalized\", level=.68, frequentist=True)\n",
    "print(mean, \"±\", std)"
   ]
  },
  {
   "cell_type": "markdown",
   "metadata": {},
   "source": [
    "#### ResNet-50-BN"
   ]
  },
  {
   "cell_type": "code",
   "execution_count": null,
   "metadata": {},
   "outputs": [],
   "source": [
    "mean, std = fetch_coverage(\"resnet-50-bn-not-marginalized\", level=.997, frequentist=True)\n",
    "print(mean, \"±\", std)\n",
    "\n",
    "mean, std = fetch_coverage(\"resnet-50-bn-not-marginalized\", level=.95, frequentist=True)\n",
    "print(mean, \"±\", std)\n",
    "\n",
    "mean, std = fetch_coverage(\"resnet-50-bn-not-marginalized\", level=.68, frequentist=True)\n",
    "print(mean, \"±\", std)"
   ]
  }
 ],
 "metadata": {
  "kernelspec": {
   "display_name": "Python 3",
   "language": "python",
   "name": "python3"
  },
  "language_info": {
   "codemirror_mode": {
    "name": "ipython",
    "version": 3
   },
   "file_extension": ".py",
   "mimetype": "text/x-python",
   "name": "python",
   "nbconvert_exporter": "python",
   "pygments_lexer": "ipython3",
   "version": "3.7.6"
  }
 },
 "nbformat": 4,
 "nbformat_minor": 4
}
