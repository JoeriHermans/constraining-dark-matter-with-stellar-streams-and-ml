{
 "cells": [
  {
   "cell_type": "markdown",
   "metadata": {
    "papermill": {
     "duration": 0.06816,
     "end_time": "2020-08-12T13:06:55.160576",
     "exception": false,
     "start_time": "2020-08-12T13:06:55.092416",
     "status": "completed"
    },
    "tags": []
   },
   "source": [
    "# Influence of the batch-size on the approximated posteriors"
   ]
  },
  {
   "cell_type": "code",
   "execution_count": 1,
   "metadata": {
    "execution": {
     "iopub.execute_input": "2020-08-12T13:06:55.201782Z",
     "iopub.status.busy": "2020-08-12T13:06:55.201378Z",
     "iopub.status.idle": "2020-08-12T13:06:58.548185Z",
     "shell.execute_reply": "2020-08-12T13:06:58.547583Z"
    },
    "papermill": {
     "duration": 3.369752,
     "end_time": "2020-08-12T13:06:58.548265",
     "exception": false,
     "start_time": "2020-08-12T13:06:55.178513",
     "status": "completed"
    },
    "tags": []
   },
   "outputs": [],
   "source": [
    "import hypothesis\n",
    "import numpy as np\n",
    "import glob\n",
    "import matplotlib\n",
    "import plotting\n",
    "import matplotlib.pyplot as plt\n",
    "import torch\n",
    "\n",
    "from hypothesis.stat import highest_density_level\n",
    "from hypothesis.visualization.util import make_square\n",
    "from matplotlib.colors import LogNorm\n",
    "from matplotlib import rc\n",
    "from plotting import compute_1d_pdf\n",
    "from plotting import compute_2d_pdf\n",
    "from plotting import compute_1d_pdf_abc\n",
    "from plotting import compute_2d_pdf_abc\n",
    "from plotting import plot_1d_pdf\n",
    "from plotting import plot_2d_pdf\n",
    "from plotting import plot_1d_pdf_std\n",
    "from plotting import plot_1d_contours\n",
    "from plotting import plot_2d_contours\n",
    "from plotting import plot_stream\n",
    "from tqdm import tqdm\n",
    "from util import load_ratio_estimator\n",
    "from util import MarginalizedAgePrior"
   ]
  },
  {
   "cell_type": "code",
   "execution_count": 2,
   "metadata": {
    "execution": {
     "iopub.execute_input": "2020-08-12T13:06:58.638510Z",
     "iopub.status.busy": "2020-08-12T13:06:58.638130Z",
     "iopub.status.idle": "2020-08-12T13:06:58.640013Z",
     "shell.execute_reply": "2020-08-12T13:06:58.639612Z"
    },
    "papermill": {
     "duration": 0.023214,
     "end_time": "2020-08-12T13:06:58.640078",
     "exception": false,
     "start_time": "2020-08-12T13:06:58.616864",
     "status": "completed"
    },
    "tags": []
   },
   "outputs": [],
   "source": [
    "matplotlib.rcParams[\"text.latex.preamble\"] = r\"\\usepackage{amssymb}\"\n",
    "\n",
    "# Matplotlib settings\n",
    "plt.rcParams.update({\"font.size\": 18})\n",
    "rc(\"font\", **{\"family\": \"serif\", \"serif\": [\"Computer Modern\"]})\n",
    "plt.rcParams[\"text.usetex\"] = True"
   ]
  },
  {
   "cell_type": "code",
   "execution_count": 3,
   "metadata": {
    "execution": {
     "iopub.execute_input": "2020-08-12T13:06:58.678309Z",
     "iopub.status.busy": "2020-08-12T13:06:58.677938Z",
     "iopub.status.idle": "2020-08-12T13:06:58.831043Z",
     "shell.execute_reply": "2020-08-12T13:06:58.830628Z"
    },
    "papermill": {
     "duration": 0.173571,
     "end_time": "2020-08-12T13:06:58.831121",
     "exception": false,
     "start_time": "2020-08-12T13:06:58.657550",
     "status": "completed"
    },
    "tags": []
   },
   "outputs": [],
   "source": [
    "!mkdir -p plots"
   ]
  },
  {
   "cell_type": "markdown",
   "metadata": {
    "papermill": {
     "duration": 0.068317,
     "end_time": "2020-08-12T13:06:58.917469",
     "exception": false,
     "start_time": "2020-08-12T13:06:58.849152",
     "status": "completed"
    },
    "tags": []
   },
   "source": [
    "## Load the pretrained ratio estimators"
   ]
  },
  {
   "cell_type": "code",
   "execution_count": 4,
   "metadata": {
    "execution": {
     "iopub.execute_input": "2020-08-12T13:06:58.956316Z",
     "iopub.status.busy": "2020-08-12T13:06:58.955941Z",
     "iopub.status.idle": "2020-08-12T13:06:58.957650Z",
     "shell.execute_reply": "2020-08-12T13:06:58.957248Z"
    },
    "papermill": {
     "duration": 0.022484,
     "end_time": "2020-08-12T13:06:58.957713",
     "exception": false,
     "start_time": "2020-08-12T13:06:58.935229",
     "status": "completed"
    },
    "tags": []
   },
   "outputs": [],
   "source": [
    "activation = \"selu\""
   ]
  },
  {
   "cell_type": "code",
   "execution_count": 5,
   "metadata": {
    "execution": {
     "iopub.execute_input": "2020-08-12T13:06:58.996700Z",
     "iopub.status.busy": "2020-08-12T13:06:58.996168Z",
     "iopub.status.idle": "2020-08-12T13:06:59.019933Z",
     "shell.execute_reply": "2020-08-12T13:06:59.019557Z"
    },
    "papermill": {
     "duration": 0.044334,
     "end_time": "2020-08-12T13:06:59.019997",
     "exception": false,
     "start_time": "2020-08-12T13:06:58.975663",
     "status": "completed"
    },
    "tags": []
   },
   "outputs": [],
   "source": [
    "query = \"out/batch-size/4096/marginalized/\" + activation + \"/*mlp-50-*batchnorm-1*/best-model.th\"\n",
    "r_4096 = load_ratio_estimator(query, normalize_inputs=False)"
   ]
  },
  {
   "cell_type": "code",
   "execution_count": 6,
   "metadata": {
    "execution": {
     "iopub.execute_input": "2020-08-12T13:06:59.059203Z",
     "iopub.status.busy": "2020-08-12T13:06:59.058830Z",
     "iopub.status.idle": "2020-08-12T13:06:59.079007Z",
     "shell.execute_reply": "2020-08-12T13:06:59.079396Z"
    },
    "papermill": {
     "duration": 0.041503,
     "end_time": "2020-08-12T13:06:59.079474",
     "exception": false,
     "start_time": "2020-08-12T13:06:59.037971",
     "status": "completed"
    },
    "tags": []
   },
   "outputs": [],
   "source": [
    "query = \"out/batch-size/1024/marginalized/\" + activation + \"/*mlp-50-*batchnorm-1*/best-model.th\"\n",
    "r_1024 = load_ratio_estimator(query, normalize_inputs=False)"
   ]
  },
  {
   "cell_type": "code",
   "execution_count": 7,
   "metadata": {
    "execution": {
     "iopub.execute_input": "2020-08-12T13:06:59.118928Z",
     "iopub.status.busy": "2020-08-12T13:06:59.118547Z",
     "iopub.status.idle": "2020-08-12T13:06:59.139612Z",
     "shell.execute_reply": "2020-08-12T13:06:59.140003Z"
    },
    "papermill": {
     "duration": 0.042345,
     "end_time": "2020-08-12T13:06:59.140081",
     "exception": false,
     "start_time": "2020-08-12T13:06:59.097736",
     "status": "completed"
    },
    "tags": []
   },
   "outputs": [],
   "source": [
    "query = \"out/batch-size/256/marginalized/\" + activation + \"/*mlp-50-*batchnorm-1*/best-model.th\"\n",
    "r_256 = load_ratio_estimator(query, normalize_inputs=False)"
   ]
  },
  {
   "cell_type": "code",
   "execution_count": 8,
   "metadata": {
    "execution": {
     "iopub.execute_input": "2020-08-12T13:06:59.179936Z",
     "iopub.status.busy": "2020-08-12T13:06:59.179506Z",
     "iopub.status.idle": "2020-08-12T13:06:59.200792Z",
     "shell.execute_reply": "2020-08-12T13:06:59.200416Z"
    },
    "papermill": {
     "duration": 0.042424,
     "end_time": "2020-08-12T13:06:59.200856",
     "exception": false,
     "start_time": "2020-08-12T13:06:59.158432",
     "status": "completed"
    },
    "tags": []
   },
   "outputs": [],
   "source": [
    "query = \"out/batch-size/64/marginalized/\" + activation + \"/*mlp-50-*batchnorm-1*/best-model.th\"\n",
    "r_64 = load_ratio_estimator(query, normalize_inputs=False)"
   ]
  },
  {
   "cell_type": "markdown",
   "metadata": {
    "papermill": {
     "duration": 0.018178,
     "end_time": "2020-08-12T13:06:59.237652",
     "exception": false,
     "start_time": "2020-08-12T13:06:59.219474",
     "status": "completed"
    },
    "tags": []
   },
   "source": [
    "## Globals"
   ]
  },
  {
   "cell_type": "code",
   "execution_count": 9,
   "metadata": {
    "execution": {
     "iopub.execute_input": "2020-08-12T13:06:59.278062Z",
     "iopub.status.busy": "2020-08-12T13:06:59.277606Z",
     "iopub.status.idle": "2020-08-12T13:06:59.294312Z",
     "shell.execute_reply": "2020-08-12T13:06:59.293924Z"
    },
    "papermill": {
     "duration": 0.038559,
     "end_time": "2020-08-12T13:06:59.294377",
     "exception": false,
     "start_time": "2020-08-12T13:06:59.255818",
     "status": "completed"
    },
    "tags": []
   },
   "outputs": [],
   "source": [
    "datadir = \"../experiment-simulations/data\"   # Root directory containing the generated and observed data\n",
    "phi = np.load(datadir + \"/phi-cut.npy\")      # Linear angle\n",
    "ages = np.load(datadir + \"/test/ages.npy\")\n",
    "masses = np.load(datadir + \"/test/masses.npy\")\n",
    "streams = np.load(datadir + \"/test/density-contrasts-cut-noised.npy\")\n",
    "prior = MarginalizedAgePrior()"
   ]
  },
  {
   "cell_type": "markdown",
   "metadata": {
    "papermill": {
     "duration": 0.01813,
     "end_time": "2020-08-12T13:06:59.330992",
     "exception": false,
     "start_time": "2020-08-12T13:06:59.312862",
     "status": "completed"
    },
    "tags": []
   },
   "source": [
    "## Losses with respect to batch-size"
   ]
  },
  {
   "cell_type": "code",
   "execution_count": 10,
   "metadata": {
    "execution": {
     "iopub.execute_input": "2020-08-12T13:06:59.372047Z",
     "iopub.status.busy": "2020-08-12T13:06:59.371650Z",
     "iopub.status.idle": "2020-08-12T13:06:59.374057Z",
     "shell.execute_reply": "2020-08-12T13:06:59.374454Z"
    },
    "papermill": {
     "duration": 0.025161,
     "end_time": "2020-08-12T13:06:59.374538",
     "exception": false,
     "start_time": "2020-08-12T13:06:59.349377",
     "status": "completed"
    },
    "tags": []
   },
   "outputs": [],
   "source": [
    "query = \"out/batch-size/4096/marginalized/\" + activation + \"/*mlp-50-*batchnorm-1*/losses-test.npy\"\n",
    "paths = glob.glob(query)\n",
    "data = []\n",
    "for path in paths:\n",
    "    data.append(np.load(path).reshape(1, -1))\n",
    "    \n",
    "losses_4096 = np.vstack(data)"
   ]
  },
  {
   "cell_type": "code",
   "execution_count": 11,
   "metadata": {
    "execution": {
     "iopub.execute_input": "2020-08-12T13:06:59.415123Z",
     "iopub.status.busy": "2020-08-12T13:06:59.414742Z",
     "iopub.status.idle": "2020-08-12T13:06:59.417627Z",
     "shell.execute_reply": "2020-08-12T13:06:59.417251Z"
    },
    "papermill": {
     "duration": 0.024825,
     "end_time": "2020-08-12T13:06:59.417691",
     "exception": false,
     "start_time": "2020-08-12T13:06:59.392866",
     "status": "completed"
    },
    "tags": []
   },
   "outputs": [],
   "source": [
    "query = \"out/batch-size/1024/marginalized/\" + activation + \"/*mlp-50-*batchnorm-1*/losses-test.npy\"\n",
    "paths = glob.glob(query)\n",
    "data = []\n",
    "for path in paths:\n",
    "    data.append(np.load(path).reshape(1, -1))\n",
    "    \n",
    "losses_1024 = np.vstack(data)"
   ]
  },
  {
   "cell_type": "code",
   "execution_count": 12,
   "metadata": {
    "execution": {
     "iopub.execute_input": "2020-08-12T13:06:59.458525Z",
     "iopub.status.busy": "2020-08-12T13:06:59.458145Z",
     "iopub.status.idle": "2020-08-12T13:06:59.461048Z",
     "shell.execute_reply": "2020-08-12T13:06:59.460676Z"
    },
    "papermill": {
     "duration": 0.024752,
     "end_time": "2020-08-12T13:06:59.461112",
     "exception": false,
     "start_time": "2020-08-12T13:06:59.436360",
     "status": "completed"
    },
    "tags": []
   },
   "outputs": [],
   "source": [
    "query = \"out/batch-size/256/marginalized/\" + activation + \"/*mlp-50-*batchnorm-1*/losses-test.npy\"\n",
    "paths = glob.glob(query)\n",
    "data = []\n",
    "for path in paths:\n",
    "    data.append(np.load(path).reshape(1, -1))\n",
    "    \n",
    "losses_256 = np.vstack(data)"
   ]
  },
  {
   "cell_type": "code",
   "execution_count": 13,
   "metadata": {
    "execution": {
     "iopub.execute_input": "2020-08-12T13:06:59.502225Z",
     "iopub.status.busy": "2020-08-12T13:06:59.501852Z",
     "iopub.status.idle": "2020-08-12T13:06:59.504773Z",
     "shell.execute_reply": "2020-08-12T13:06:59.504399Z"
    },
    "papermill": {
     "duration": 0.024815,
     "end_time": "2020-08-12T13:06:59.504836",
     "exception": false,
     "start_time": "2020-08-12T13:06:59.480021",
     "status": "completed"
    },
    "tags": []
   },
   "outputs": [],
   "source": [
    "query = \"out/batch-size/64/marginalized/\" + activation + \"/*mlp-50-*batchnorm-1*/losses-test.npy\"\n",
    "paths = glob.glob(query)\n",
    "data = []\n",
    "for path in paths:\n",
    "    data.append(np.load(path).reshape(1, -1))\n",
    "    \n",
    "losses_64 = np.vstack(data)"
   ]
  },
  {
   "cell_type": "code",
   "execution_count": 14,
   "metadata": {
    "execution": {
     "iopub.execute_input": "2020-08-12T13:06:59.547112Z",
     "iopub.status.busy": "2020-08-12T13:06:59.546739Z",
     "iopub.status.idle": "2020-08-12T13:06:59.879968Z",
     "shell.execute_reply": "2020-08-12T13:06:59.879579Z"
    },
    "papermill": {
     "duration": 0.356457,
     "end_time": "2020-08-12T13:06:59.880042",
     "exception": false,
     "start_time": "2020-08-12T13:06:59.523585",
     "status": "completed"
    },
    "tags": []
   },
   "outputs": [
    {
     "name": "stderr",
     "output_type": "stream",
     "text": [
      "findfont: Font family ['serif'] not found. Falling back to DejaVu Sans.\n"
     ]
    },
    {
     "data": {
      "image/png": "[encoded data removed]",
      "text/plain": [
       "<Figure size 432x288 with 1 Axes>"
      ]
     },
     "metadata": {
      "needs_background": "light"
     },
     "output_type": "display_data"
    }
   ],
   "source": [
    "epochs = np.arange(1, 50 + 1)\n",
    "\n",
    "plt.plot(np.mean(losses_4096, axis=0), label=\"4096\")\n",
    "plt.plot(np.mean(losses_1024, axis=0), label=\"1024\")\n",
    "plt.plot(np.mean(losses_256, axis=0), label=\"256\")\n",
    "plt.plot(np.mean(losses_64, axis=0), label=\"64\")\n",
    "plt.legend()\n",
    "plt.show()"
   ]
  },
  {
   "cell_type": "code",
   "execution_count": 15,
   "metadata": {
    "execution": {
     "iopub.execute_input": "2020-08-12T13:06:59.926088Z",
     "iopub.status.busy": "2020-08-12T13:06:59.925710Z",
     "iopub.status.idle": "2020-08-12T13:06:59.927596Z",
     "shell.execute_reply": "2020-08-12T13:06:59.927188Z"
    },
    "papermill": {
     "duration": 0.027068,
     "end_time": "2020-08-12T13:06:59.927662",
     "exception": false,
     "start_time": "2020-08-12T13:06:59.900594",
     "status": "completed"
    },
    "tags": []
   },
   "outputs": [],
   "source": [
    "test_losses_m = [\n",
    "    np.mean(losses_64, axis=0),\n",
    "    np.mean(losses_256, axis=0),\n",
    "    np.mean(losses_1024, axis=0),\n",
    "    np.mean(losses_4096, axis=0)\n",
    "]\n",
    "\n",
    "test_losses_e = [\n",
    "    np.std(losses_64, axis=0),\n",
    "    np.std(losses_256, axis=0),\n",
    "    np.std(losses_1024, axis=0),\n",
    "    np.std(losses_4096, axis=0)\n",
    "]"
   ]
  },
  {
   "cell_type": "markdown",
   "metadata": {
    "papermill": {
     "duration": 0.019872,
     "end_time": "2020-08-12T13:06:59.967609",
     "exception": false,
     "start_time": "2020-08-12T13:06:59.947737",
     "status": "completed"
    },
    "tags": []
   },
   "source": [
    "### Verify 95% CR coverage"
   ]
  },
  {
   "cell_type": "code",
   "execution_count": 16,
   "metadata": {
    "execution": {
     "iopub.execute_input": "2020-08-12T13:07:00.013233Z",
     "iopub.status.busy": "2020-08-12T13:07:00.012852Z",
     "iopub.status.idle": "2020-08-12T13:07:00.014765Z",
     "shell.execute_reply": "2020-08-12T13:07:00.014363Z"
    },
    "papermill": {
     "duration": 0.027187,
     "end_time": "2020-08-12T13:07:00.014830",
     "exception": false,
     "start_time": "2020-08-12T13:06:59.987643",
     "status": "completed"
    },
    "tags": []
   },
   "outputs": [],
   "source": [
    "def fetch_coverage(batch_size):\n",
    "    # Fetch the results\n",
    "    level = 0.95\n",
    "    query = \"out/batch-size/\" + str(batch_size) + \"/marginalized/selu/*\" + str(level) + \"*.npy\"\n",
    "    paths = glob.glob(query)\n",
    "    coverages = []\n",
    "    for path in paths:\n",
    "        result = np.load(path)\n",
    "        coverages.append(result.sum() / len(result))\n",
    "    if len(coverages) == 0:\n",
    "        raise ValueError(\"No results available!\")\n",
    "    coverages = np.array(coverages)\n",
    "    m = round(np.mean(coverages), 3)\n",
    "    s = round(np.std(coverages), 3)\n",
    "\n",
    "    return m, s"
   ]
  },
  {
   "cell_type": "markdown",
   "metadata": {
    "papermill": {
     "duration": 0.020076,
     "end_time": "2020-08-12T13:07:00.055311",
     "exception": false,
     "start_time": "2020-08-12T13:07:00.035235",
     "status": "completed"
    },
    "tags": []
   },
   "source": [
    "#### Batch-size 64"
   ]
  },
  {
   "cell_type": "code",
   "execution_count": 17,
   "metadata": {
    "execution": {
     "iopub.execute_input": "2020-08-12T13:07:00.098104Z",
     "iopub.status.busy": "2020-08-12T13:07:00.097728Z",
     "iopub.status.idle": "2020-08-12T13:07:00.134348Z",
     "shell.execute_reply": "2020-08-12T13:07:00.133948Z"
    },
    "papermill": {
     "duration": 0.059052,
     "end_time": "2020-08-12T13:07:00.134411",
     "exception": false,
     "start_time": "2020-08-12T13:07:00.075359",
     "status": "completed"
    },
    "tags": []
   },
   "outputs": [
    {
     "data": {
      "text/plain": [
       "(0.961, 0.004)"
      ]
     },
     "execution_count": 17,
     "metadata": {},
     "output_type": "execute_result"
    }
   ],
   "source": [
    "fetch_coverage(64)"
   ]
  },
  {
   "cell_type": "markdown",
   "metadata": {
    "papermill": {
     "duration": 0.020495,
     "end_time": "2020-08-12T13:07:00.175646",
     "exception": false,
     "start_time": "2020-08-12T13:07:00.155151",
     "status": "completed"
    },
    "tags": []
   },
   "source": [
    "#### Batch-size 256"
   ]
  },
  {
   "cell_type": "code",
   "execution_count": 18,
   "metadata": {
    "execution": {
     "iopub.execute_input": "2020-08-12T13:07:00.219570Z",
     "iopub.status.busy": "2020-08-12T13:07:00.219125Z",
     "iopub.status.idle": "2020-08-12T13:07:00.235589Z",
     "shell.execute_reply": "2020-08-12T13:07:00.235188Z"
    },
    "papermill": {
     "duration": 0.039696,
     "end_time": "2020-08-12T13:07:00.235655",
     "exception": false,
     "start_time": "2020-08-12T13:07:00.195959",
     "status": "completed"
    },
    "tags": []
   },
   "outputs": [
    {
     "data": {
      "text/plain": [
       "(0.954, 0.004)"
      ]
     },
     "execution_count": 18,
     "metadata": {},
     "output_type": "execute_result"
    }
   ],
   "source": [
    "fetch_coverage(256)"
   ]
  },
  {
   "cell_type": "markdown",
   "metadata": {
    "papermill": {
     "duration": 0.0208,
     "end_time": "2020-08-12T13:07:00.277625",
     "exception": false,
     "start_time": "2020-08-12T13:07:00.256825",
     "status": "completed"
    },
    "tags": []
   },
   "source": [
    "#### Batch-size 1024"
   ]
  },
  {
   "cell_type": "code",
   "execution_count": 19,
   "metadata": {
    "execution": {
     "iopub.execute_input": "2020-08-12T13:07:00.322384Z",
     "iopub.status.busy": "2020-08-12T13:07:00.322008Z",
     "iopub.status.idle": "2020-08-12T13:07:00.328292Z",
     "shell.execute_reply": "2020-08-12T13:07:00.327540Z"
    },
    "papermill": {
     "duration": 0.02999,
     "end_time": "2020-08-12T13:07:00.328358",
     "exception": false,
     "start_time": "2020-08-12T13:07:00.298368",
     "status": "completed"
    },
    "tags": []
   },
   "outputs": [
    {
     "data": {
      "text/plain": [
       "(0.952, 0.008)"
      ]
     },
     "execution_count": 19,
     "metadata": {},
     "output_type": "execute_result"
    }
   ],
   "source": [
    "fetch_coverage(1024)"
   ]
  },
  {
   "cell_type": "markdown",
   "metadata": {
    "papermill": {
     "duration": 0.021101,
     "end_time": "2020-08-12T13:07:00.370768",
     "exception": false,
     "start_time": "2020-08-12T13:07:00.349667",
     "status": "completed"
    },
    "tags": []
   },
   "source": [
    "#### Batch-size 4096"
   ]
  },
  {
   "cell_type": "code",
   "execution_count": 20,
   "metadata": {
    "execution": {
     "iopub.execute_input": "2020-08-12T13:07:00.416048Z",
     "iopub.status.busy": "2020-08-12T13:07:00.415667Z",
     "iopub.status.idle": "2020-08-12T13:07:00.432472Z",
     "shell.execute_reply": "2020-08-12T13:07:00.432079Z"
    },
    "papermill": {
     "duration": 0.040667,
     "end_time": "2020-08-12T13:07:00.432543",
     "exception": false,
     "start_time": "2020-08-12T13:07:00.391876",
     "status": "completed"
    },
    "tags": []
   },
   "outputs": [
    {
     "data": {
      "text/plain": [
       "(0.952, 0.006)"
      ]
     },
     "execution_count": 20,
     "metadata": {},
     "output_type": "execute_result"
    }
   ],
   "source": [
    "fetch_coverage(4096)"
   ]
  },
  {
   "cell_type": "markdown",
   "metadata": {
    "papermill": {
     "duration": 0.021396,
     "end_time": "2020-08-12T13:07:00.475638",
     "exception": false,
     "start_time": "2020-08-12T13:07:00.454242",
     "status": "completed"
    },
    "tags": []
   },
   "source": [
    "#### Summary"
   ]
  },
  {
   "cell_type": "code",
   "execution_count": 21,
   "metadata": {
    "execution": {
     "iopub.execute_input": "2020-08-12T13:07:00.522140Z",
     "iopub.status.busy": "2020-08-12T13:07:00.521766Z",
     "iopub.status.idle": "2020-08-12T13:07:00.533436Z",
     "shell.execute_reply": "2020-08-12T13:07:00.533894Z"
    },
    "papermill": {
     "duration": 0.036755,
     "end_time": "2020-08-12T13:07:00.533986",
     "exception": false,
     "start_time": "2020-08-12T13:07:00.497231",
     "status": "completed"
    },
    "tags": []
   },
   "outputs": [],
   "source": [
    "cov_64_m, cov_64_s = fetch_coverage(64)\n",
    "cov_256_m, cov_256_s = fetch_coverage(256)\n",
    "cov_1024_m, cov_1024_s = fetch_coverage(1024)\n",
    "cov_4096_m, cov_4096_s = fetch_coverage(4096)"
   ]
  },
  {
   "cell_type": "markdown",
   "metadata": {
    "papermill": {
     "duration": 0.021556,
     "end_time": "2020-08-12T13:07:00.577130",
     "exception": false,
     "start_time": "2020-08-12T13:07:00.555574",
     "status": "completed"
    },
    "tags": []
   },
   "source": [
    "## Compute $\\mathbb{E}_{x\\sim p(x)}\\left[\\log p(\\vartheta = \\vartheta^*\\vert x\\right]$ for the various settings"
   ]
  },
  {
   "cell_type": "code",
   "execution_count": 22,
   "metadata": {
    "execution": {
     "iopub.execute_input": "2020-08-12T13:07:00.626115Z",
     "iopub.status.busy": "2020-08-12T13:07:00.625738Z",
     "iopub.status.idle": "2020-08-12T13:07:00.627897Z",
     "shell.execute_reply": "2020-08-12T13:07:00.627186Z"
    },
    "papermill": {
     "duration": 0.02918,
     "end_time": "2020-08-12T13:07:00.627963",
     "exception": false,
     "start_time": "2020-08-12T13:07:00.598783",
     "status": "completed"
    },
    "tags": []
   },
   "outputs": [],
   "source": [
    "def expected_nominal_pdf(r, n=1000):\n",
    "    estimates = []\n",
    "    for _ in range(n):\n",
    "        index = np.random.randint(0, 100000)\n",
    "        stream = torch.from_numpy(streams[index]).unsqueeze(0).float()\n",
    "        mass = torch.from_numpy(masses[index]).unsqueeze(0).float()\n",
    "        stream = stream.to(hypothesis.accelerator)\n",
    "        mass = mass.to(hypothesis.accelerator)\n",
    "        log_pdf = prior.log_prob(mass) + r.log_ratio(inputs=mass, outputs=stream)\n",
    "        estimates.append(log_pdf.item())\n",
    "        \n",
    "    return np.mean(estimates)"
   ]
  },
  {
   "cell_type": "code",
   "execution_count": 23,
   "metadata": {
    "execution": {
     "iopub.execute_input": "2020-08-12T13:07:00.674510Z",
     "iopub.status.busy": "2020-08-12T13:07:00.674132Z",
     "iopub.status.idle": "2020-08-12T13:07:00.675938Z",
     "shell.execute_reply": "2020-08-12T13:07:00.676244Z"
    },
    "papermill": {
     "duration": 0.026422,
     "end_time": "2020-08-12T13:07:00.676326",
     "exception": false,
     "start_time": "2020-08-12T13:07:00.649904",
     "status": "completed"
    },
    "tags": []
   },
   "outputs": [],
   "source": [
    "repeat = 25 # Repeat the experiments 25 times"
   ]
  },
  {
   "cell_type": "code",
   "execution_count": 24,
   "metadata": {
    "execution": {
     "iopub.execute_input": "2020-08-12T13:07:00.724194Z",
     "iopub.status.busy": "2020-08-12T13:07:00.723814Z",
     "iopub.status.idle": "2020-08-12T13:07:34.830775Z",
     "shell.execute_reply": "2020-08-12T13:07:34.831190Z"
    },
    "papermill": {
     "duration": 34.132865,
     "end_time": "2020-08-12T13:07:34.831292",
     "exception": false,
     "start_time": "2020-08-12T13:07:00.698427",
     "status": "completed"
    },
    "tags": []
   },
   "outputs": [
    {
     "name": "stderr",
     "output_type": "stream",
     "text": [
      "\r",
      "  0%|          | 0/25 [00:00<?, ?it/s]"
     ]
    },
    {
     "name": "stderr",
     "output_type": "stream",
     "text": [
      "\r",
      "  4%|▍         | 1/25 [00:01<00:32,  1.37s/it]"
     ]
    },
    {
     "name": "stderr",
     "output_type": "stream",
     "text": [
      "\r",
      "  8%|▊         | 2/25 [00:02<00:31,  1.36s/it]"
     ]
    },
    {
     "name": "stderr",
     "output_type": "stream",
     "text": [
      "\r",
      " 12%|█▏        | 3/25 [00:04<00:30,  1.36s/it]"
     ]
    },
    {
     "name": "stderr",
     "output_type": "stream",
     "text": [
      "\r",
      " 16%|█▌        | 4/25 [00:05<00:28,  1.36s/it]"
     ]
    },
    {
     "name": "stderr",
     "output_type": "stream",
     "text": [
      "\r",
      " 20%|██        | 5/25 [00:06<00:27,  1.36s/it]"
     ]
    },
    {
     "name": "stderr",
     "output_type": "stream",
     "text": [
      "\r",
      " 24%|██▍       | 6/25 [00:08<00:25,  1.36s/it]"
     ]
    },
    {
     "name": "stderr",
     "output_type": "stream",
     "text": [
      "\r",
      " 28%|██▊       | 7/25 [00:09<00:24,  1.36s/it]"
     ]
    },
    {
     "name": "stderr",
     "output_type": "stream",
     "text": [
      "\r",
      " 32%|███▏      | 8/25 [00:10<00:23,  1.36s/it]"
     ]
    },
    {
     "name": "stderr",
     "output_type": "stream",
     "text": [
      "\r",
      " 36%|███▌      | 9/25 [00:12<00:21,  1.36s/it]"
     ]
    },
    {
     "name": "stderr",
     "output_type": "stream",
     "text": [
      "\r",
      " 40%|████      | 10/25 [00:13<00:20,  1.36s/it]"
     ]
    },
    {
     "name": "stderr",
     "output_type": "stream",
     "text": [
      "\r",
      " 44%|████▍     | 11/25 [00:14<00:19,  1.36s/it]"
     ]
    },
    {
     "name": "stderr",
     "output_type": "stream",
     "text": [
      "\r",
      " 48%|████▊     | 12/25 [00:16<00:17,  1.36s/it]"
     ]
    },
    {
     "name": "stderr",
     "output_type": "stream",
     "text": [
      "\r",
      " 52%|█████▏    | 13/25 [00:17<00:16,  1.36s/it]"
     ]
    },
    {
     "name": "stderr",
     "output_type": "stream",
     "text": [
      "\r",
      " 56%|█████▌    | 14/25 [00:19<00:15,  1.36s/it]"
     ]
    },
    {
     "name": "stderr",
     "output_type": "stream",
     "text": [
      "\r",
      " 60%|██████    | 15/25 [00:20<00:13,  1.36s/it]"
     ]
    },
    {
     "name": "stderr",
     "output_type": "stream",
     "text": [
      "\r",
      " 64%|██████▍   | 16/25 [00:21<00:12,  1.36s/it]"
     ]
    },
    {
     "name": "stderr",
     "output_type": "stream",
     "text": [
      "\r",
      " 68%|██████▊   | 17/25 [00:23<00:10,  1.36s/it]"
     ]
    },
    {
     "name": "stderr",
     "output_type": "stream",
     "text": [
      "\r",
      " 72%|███████▏  | 18/25 [00:24<00:09,  1.36s/it]"
     ]
    },
    {
     "name": "stderr",
     "output_type": "stream",
     "text": [
      "\r",
      " 76%|███████▌  | 19/25 [00:25<00:08,  1.36s/it]"
     ]
    },
    {
     "name": "stderr",
     "output_type": "stream",
     "text": [
      "\r",
      " 80%|████████  | 20/25 [00:27<00:06,  1.36s/it]"
     ]
    },
    {
     "name": "stderr",
     "output_type": "stream",
     "text": [
      "\r",
      " 84%|████████▍ | 21/25 [00:28<00:05,  1.36s/it]"
     ]
    },
    {
     "name": "stderr",
     "output_type": "stream",
     "text": [
      "\r",
      " 88%|████████▊ | 22/25 [00:30<00:04,  1.36s/it]"
     ]
    },
    {
     "name": "stderr",
     "output_type": "stream",
     "text": [
      "\r",
      " 92%|█████████▏| 23/25 [00:31<00:02,  1.36s/it]"
     ]
    },
    {
     "name": "stderr",
     "output_type": "stream",
     "text": [
      "\r",
      " 96%|█████████▌| 24/25 [00:32<00:01,  1.36s/it]"
     ]
    },
    {
     "name": "stderr",
     "output_type": "stream",
     "text": [
      "\r",
      "100%|██████████| 25/25 [00:34<00:00,  1.36s/it]"
     ]
    },
    {
     "name": "stderr",
     "output_type": "stream",
     "text": [
      "\r",
      "100%|██████████| 25/25 [00:34<00:00,  1.36s/it]"
     ]
    },
    {
     "name": "stdout",
     "output_type": "stream",
     "text": [
      "-3.5127728618335725 ± 0.019378810244491097\n"
     ]
    },
    {
     "name": "stderr",
     "output_type": "stream",
     "text": [
      "\n"
     ]
    }
   ],
   "source": [
    "estimates = []\n",
    "for _ in tqdm(range(repeat)):\n",
    "    estimates.append(expected_nominal_pdf(r_4096))\n",
    "print(np.mean(estimates), \"±\", np.std(estimates))\n",
    "\n",
    "m_4096 = np.mean(estimates)\n",
    "s_4096 = np.std(estimates)"
   ]
  },
  {
   "cell_type": "code",
   "execution_count": 25,
   "metadata": {
    "execution": {
     "iopub.execute_input": "2020-08-12T13:07:34.948003Z",
     "iopub.status.busy": "2020-08-12T13:07:34.947628Z",
     "iopub.status.idle": "2020-08-12T13:07:34.949536Z",
     "shell.execute_reply": "2020-08-12T13:07:34.949936Z"
    },
    "papermill": {
     "duration": 0.034779,
     "end_time": "2020-08-12T13:07:34.950023",
     "exception": false,
     "start_time": "2020-08-12T13:07:34.915244",
     "status": "completed"
    },
    "tags": []
   },
   "outputs": [
    {
     "data": {
      "text/plain": [
       "-3.5127728618335725"
      ]
     },
     "execution_count": 25,
     "metadata": {},
     "output_type": "execute_result"
    }
   ],
   "source": [
    "m_4096"
   ]
  },
  {
   "cell_type": "code",
   "execution_count": 26,
   "metadata": {
    "execution": {
     "iopub.execute_input": "2020-08-12T13:07:35.012857Z",
     "iopub.status.busy": "2020-08-12T13:07:35.012470Z",
     "iopub.status.idle": "2020-08-12T13:08:09.112780Z",
     "shell.execute_reply": "2020-08-12T13:08:09.112378Z"
    },
    "papermill": {
     "duration": 34.133398,
     "end_time": "2020-08-12T13:08:09.112857",
     "exception": false,
     "start_time": "2020-08-12T13:07:34.979459",
     "status": "completed"
    },
    "tags": []
   },
   "outputs": [
    {
     "name": "stderr",
     "output_type": "stream",
     "text": [
      "\r",
      "  0%|          | 0/25 [00:00<?, ?it/s]"
     ]
    },
    {
     "name": "stderr",
     "output_type": "stream",
     "text": [
      "\r",
      "  4%|▍         | 1/25 [00:01<00:32,  1.36s/it]"
     ]
    },
    {
     "name": "stderr",
     "output_type": "stream",
     "text": [
      "\r",
      "  8%|▊         | 2/25 [00:02<00:31,  1.36s/it]"
     ]
    },
    {
     "name": "stderr",
     "output_type": "stream",
     "text": [
      "\r",
      " 12%|█▏        | 3/25 [00:04<00:29,  1.36s/it]"
     ]
    },
    {
     "name": "stderr",
     "output_type": "stream",
     "text": [
      "\r",
      " 16%|█▌        | 4/25 [00:05<00:28,  1.36s/it]"
     ]
    },
    {
     "name": "stderr",
     "output_type": "stream",
     "text": [
      "\r",
      " 20%|██        | 5/25 [00:06<00:27,  1.36s/it]"
     ]
    },
    {
     "name": "stderr",
     "output_type": "stream",
     "text": [
      "\r",
      " 24%|██▍       | 6/25 [00:08<00:25,  1.36s/it]"
     ]
    },
    {
     "name": "stderr",
     "output_type": "stream",
     "text": [
      "\r",
      " 28%|██▊       | 7/25 [00:09<00:24,  1.36s/it]"
     ]
    },
    {
     "name": "stderr",
     "output_type": "stream",
     "text": [
      "\r",
      " 32%|███▏      | 8/25 [00:10<00:23,  1.36s/it]"
     ]
    },
    {
     "name": "stderr",
     "output_type": "stream",
     "text": [
      "\r",
      " 36%|███▌      | 9/25 [00:12<00:21,  1.36s/it]"
     ]
    },
    {
     "name": "stderr",
     "output_type": "stream",
     "text": [
      "\r",
      " 40%|████      | 10/25 [00:13<00:20,  1.36s/it]"
     ]
    },
    {
     "name": "stderr",
     "output_type": "stream",
     "text": [
      "\r",
      " 44%|████▍     | 11/25 [00:15<00:19,  1.36s/it]"
     ]
    },
    {
     "name": "stderr",
     "output_type": "stream",
     "text": [
      "\r",
      " 48%|████▊     | 12/25 [00:16<00:17,  1.36s/it]"
     ]
    },
    {
     "name": "stderr",
     "output_type": "stream",
     "text": [
      "\r",
      " 52%|█████▏    | 13/25 [00:17<00:16,  1.36s/it]"
     ]
    },
    {
     "name": "stderr",
     "output_type": "stream",
     "text": [
      "\r",
      " 56%|█████▌    | 14/25 [00:19<00:15,  1.36s/it]"
     ]
    },
    {
     "name": "stderr",
     "output_type": "stream",
     "text": [
      "\r",
      " 60%|██████    | 15/25 [00:20<00:13,  1.36s/it]"
     ]
    },
    {
     "name": "stderr",
     "output_type": "stream",
     "text": [
      "\r",
      " 64%|██████▍   | 16/25 [00:21<00:12,  1.36s/it]"
     ]
    },
    {
     "name": "stderr",
     "output_type": "stream",
     "text": [
      "\r",
      " 68%|██████▊   | 17/25 [00:23<00:10,  1.36s/it]"
     ]
    },
    {
     "name": "stderr",
     "output_type": "stream",
     "text": [
      "\r",
      " 72%|███████▏  | 18/25 [00:24<00:09,  1.36s/it]"
     ]
    },
    {
     "name": "stderr",
     "output_type": "stream",
     "text": [
      "\r",
      " 76%|███████▌  | 19/25 [00:25<00:08,  1.36s/it]"
     ]
    },
    {
     "name": "stderr",
     "output_type": "stream",
     "text": [
      "\r",
      " 80%|████████  | 20/25 [00:27<00:06,  1.36s/it]"
     ]
    },
    {
     "name": "stderr",
     "output_type": "stream",
     "text": [
      "\r",
      " 84%|████████▍ | 21/25 [00:28<00:05,  1.36s/it]"
     ]
    },
    {
     "name": "stderr",
     "output_type": "stream",
     "text": [
      "\r",
      " 88%|████████▊ | 22/25 [00:30<00:04,  1.36s/it]"
     ]
    },
    {
     "name": "stderr",
     "output_type": "stream",
     "text": [
      "\r",
      " 92%|█████████▏| 23/25 [00:31<00:02,  1.36s/it]"
     ]
    },
    {
     "name": "stderr",
     "output_type": "stream",
     "text": [
      "\r",
      " 96%|█████████▌| 24/25 [00:32<00:01,  1.36s/it]"
     ]
    },
    {
     "name": "stderr",
     "output_type": "stream",
     "text": [
      "\r",
      "100%|██████████| 25/25 [00:34<00:00,  1.36s/it]"
     ]
    },
    {
     "name": "stderr",
     "output_type": "stream",
     "text": [
      "\r",
      "100%|██████████| 25/25 [00:34<00:00,  1.36s/it]"
     ]
    },
    {
     "name": "stdout",
     "output_type": "stream",
     "text": [
      "-3.544567148127556 ± 0.026074036502304887\n"
     ]
    },
    {
     "name": "stderr",
     "output_type": "stream",
     "text": [
      "\n"
     ]
    }
   ],
   "source": [
    "estimates = []\n",
    "for _ in tqdm(range(repeat)):\n",
    "    estimates.append(expected_nominal_pdf(r_1024))\n",
    "print(np.mean(estimates), \"±\", np.std(estimates))\n",
    "\n",
    "m_1024 = np.mean(estimates)\n",
    "s_1024 = np.std(estimates)"
   ]
  },
  {
   "cell_type": "code",
   "execution_count": 27,
   "metadata": {
    "execution": {
     "iopub.execute_input": "2020-08-12T13:08:09.236958Z",
     "iopub.status.busy": "2020-08-12T13:08:09.236580Z",
     "iopub.status.idle": "2020-08-12T13:08:09.238577Z",
     "shell.execute_reply": "2020-08-12T13:08:09.238175Z"
    },
    "papermill": {
     "duration": 0.042276,
     "end_time": "2020-08-12T13:08:09.238645",
     "exception": false,
     "start_time": "2020-08-12T13:08:09.196369",
     "status": "completed"
    },
    "tags": []
   },
   "outputs": [
    {
     "data": {
      "text/plain": [
       "-3.544567148127556"
      ]
     },
     "execution_count": 27,
     "metadata": {},
     "output_type": "execute_result"
    }
   ],
   "source": [
    "m_1024"
   ]
  },
  {
   "cell_type": "code",
   "execution_count": 28,
   "metadata": {
    "execution": {
     "iopub.execute_input": "2020-08-12T13:08:09.316723Z",
     "iopub.status.busy": "2020-08-12T13:08:09.316334Z",
     "iopub.status.idle": "2020-08-12T13:08:43.394888Z",
     "shell.execute_reply": "2020-08-12T13:08:43.395302Z"
    },
    "papermill": {
     "duration": 34.119809,
     "end_time": "2020-08-12T13:08:43.395405",
     "exception": false,
     "start_time": "2020-08-12T13:08:09.275596",
     "status": "completed"
    },
    "tags": []
   },
   "outputs": [
    {
     "name": "stderr",
     "output_type": "stream",
     "text": [
      "\r",
      "  0%|          | 0/25 [00:00<?, ?it/s]"
     ]
    },
    {
     "name": "stderr",
     "output_type": "stream",
     "text": [
      "\r",
      "  4%|▍         | 1/25 [00:01<00:32,  1.36s/it]"
     ]
    },
    {
     "name": "stderr",
     "output_type": "stream",
     "text": [
      "\r",
      "  8%|▊         | 2/25 [00:02<00:31,  1.36s/it]"
     ]
    },
    {
     "name": "stderr",
     "output_type": "stream",
     "text": [
      "\r",
      " 12%|█▏        | 3/25 [00:04<00:29,  1.36s/it]"
     ]
    },
    {
     "name": "stderr",
     "output_type": "stream",
     "text": [
      "\r",
      " 16%|█▌        | 4/25 [00:05<00:28,  1.36s/it]"
     ]
    },
    {
     "name": "stderr",
     "output_type": "stream",
     "text": [
      "\r",
      " 20%|██        | 5/25 [00:06<00:27,  1.36s/it]"
     ]
    },
    {
     "name": "stderr",
     "output_type": "stream",
     "text": [
      "\r",
      " 24%|██▍       | 6/25 [00:08<00:25,  1.36s/it]"
     ]
    },
    {
     "name": "stderr",
     "output_type": "stream",
     "text": [
      "\r",
      " 28%|██▊       | 7/25 [00:09<00:24,  1.36s/it]"
     ]
    },
    {
     "name": "stderr",
     "output_type": "stream",
     "text": [
      "\r",
      " 32%|███▏      | 8/25 [00:10<00:23,  1.36s/it]"
     ]
    },
    {
     "name": "stderr",
     "output_type": "stream",
     "text": [
      "\r",
      " 36%|███▌      | 9/25 [00:12<00:21,  1.36s/it]"
     ]
    },
    {
     "name": "stderr",
     "output_type": "stream",
     "text": [
      "\r",
      " 40%|████      | 10/25 [00:13<00:20,  1.36s/it]"
     ]
    },
    {
     "name": "stderr",
     "output_type": "stream",
     "text": [
      "\r",
      " 44%|████▍     | 11/25 [00:14<00:19,  1.36s/it]"
     ]
    },
    {
     "name": "stderr",
     "output_type": "stream",
     "text": [
      "\r",
      " 48%|████▊     | 12/25 [00:16<00:17,  1.36s/it]"
     ]
    },
    {
     "name": "stderr",
     "output_type": "stream",
     "text": [
      "\r",
      " 52%|█████▏    | 13/25 [00:17<00:16,  1.36s/it]"
     ]
    },
    {
     "name": "stderr",
     "output_type": "stream",
     "text": [
      "\r",
      " 56%|█████▌    | 14/25 [00:19<00:14,  1.36s/it]"
     ]
    },
    {
     "name": "stderr",
     "output_type": "stream",
     "text": [
      "\r",
      " 60%|██████    | 15/25 [00:20<00:13,  1.36s/it]"
     ]
    },
    {
     "name": "stderr",
     "output_type": "stream",
     "text": [
      "\r",
      " 64%|██████▍   | 16/25 [00:21<00:12,  1.36s/it]"
     ]
    },
    {
     "name": "stderr",
     "output_type": "stream",
     "text": [
      "\r",
      " 68%|██████▊   | 17/25 [00:23<00:10,  1.36s/it]"
     ]
    },
    {
     "name": "stderr",
     "output_type": "stream",
     "text": [
      "\r",
      " 72%|███████▏  | 18/25 [00:24<00:09,  1.36s/it]"
     ]
    },
    {
     "name": "stderr",
     "output_type": "stream",
     "text": [
      "\r",
      " 76%|███████▌  | 19/25 [00:25<00:08,  1.36s/it]"
     ]
    },
    {
     "name": "stderr",
     "output_type": "stream",
     "text": [
      "\r",
      " 80%|████████  | 20/25 [00:27<00:06,  1.36s/it]"
     ]
    },
    {
     "name": "stderr",
     "output_type": "stream",
     "text": [
      "\r",
      " 84%|████████▍ | 21/25 [00:28<00:05,  1.36s/it]"
     ]
    },
    {
     "name": "stderr",
     "output_type": "stream",
     "text": [
      "\r",
      " 88%|████████▊ | 22/25 [00:29<00:04,  1.36s/it]"
     ]
    },
    {
     "name": "stderr",
     "output_type": "stream",
     "text": [
      "\r",
      " 92%|█████████▏| 23/25 [00:31<00:02,  1.36s/it]"
     ]
    },
    {
     "name": "stderr",
     "output_type": "stream",
     "text": [
      "\r",
      " 96%|█████████▌| 24/25 [00:32<00:01,  1.36s/it]"
     ]
    },
    {
     "name": "stderr",
     "output_type": "stream",
     "text": [
      "\r",
      "100%|██████████| 25/25 [00:34<00:00,  1.36s/it]"
     ]
    },
    {
     "name": "stderr",
     "output_type": "stream",
     "text": [
      "\r",
      "100%|██████████| 25/25 [00:34<00:00,  1.36s/it]"
     ]
    },
    {
     "name": "stdout",
     "output_type": "stream",
     "text": [
      "-3.5581569200468066 ± 0.02413868016884125\n"
     ]
    },
    {
     "name": "stderr",
     "output_type": "stream",
     "text": [
      "\n"
     ]
    }
   ],
   "source": [
    "estimates = []\n",
    "for _ in tqdm(range(repeat)):\n",
    "    estimates.append(expected_nominal_pdf(r_256))\n",
    "print(np.mean(estimates), \"±\", np.std(estimates))\n",
    "\n",
    "m_256 = np.mean(estimates)\n",
    "s_256 = np.std(estimates)"
   ]
  },
  {
   "cell_type": "code",
   "execution_count": 29,
   "metadata": {
    "execution": {
     "iopub.execute_input": "2020-08-12T13:08:43.536485Z",
     "iopub.status.busy": "2020-08-12T13:08:43.536108Z",
     "iopub.status.idle": "2020-08-12T13:08:43.538405Z",
     "shell.execute_reply": "2020-08-12T13:08:43.538006Z"
    },
    "papermill": {
     "duration": 0.049309,
     "end_time": "2020-08-12T13:08:43.538473",
     "exception": false,
     "start_time": "2020-08-12T13:08:43.489164",
     "status": "completed"
    },
    "tags": []
   },
   "outputs": [
    {
     "data": {
      "text/plain": [
       "-3.5581569200468066"
      ]
     },
     "execution_count": 29,
     "metadata": {},
     "output_type": "execute_result"
    }
   ],
   "source": [
    "m_256"
   ]
  },
  {
   "cell_type": "code",
   "execution_count": 30,
   "metadata": {
    "execution": {
     "iopub.execute_input": "2020-08-12T13:08:43.631831Z",
     "iopub.status.busy": "2020-08-12T13:08:43.631261Z",
     "iopub.status.idle": "2020-08-12T13:09:17.825352Z",
     "shell.execute_reply": "2020-08-12T13:09:17.824948Z"
    },
    "papermill": {
     "duration": 34.24299,
     "end_time": "2020-08-12T13:09:17.825429",
     "exception": false,
     "start_time": "2020-08-12T13:08:43.582439",
     "status": "completed"
    },
    "tags": []
   },
   "outputs": [
    {
     "name": "stderr",
     "output_type": "stream",
     "text": [
      "\r",
      "  0%|          | 0/25 [00:00<?, ?it/s]"
     ]
    },
    {
     "name": "stderr",
     "output_type": "stream",
     "text": [
      "\r",
      "  4%|▍         | 1/25 [00:01<00:32,  1.36s/it]"
     ]
    },
    {
     "name": "stderr",
     "output_type": "stream",
     "text": [
      "\r",
      "  8%|▊         | 2/25 [00:02<00:31,  1.36s/it]"
     ]
    },
    {
     "name": "stderr",
     "output_type": "stream",
     "text": [
      "\r",
      " 12%|█▏        | 3/25 [00:04<00:30,  1.36s/it]"
     ]
    },
    {
     "name": "stderr",
     "output_type": "stream",
     "text": [
      "\r",
      " 16%|█▌        | 4/25 [00:05<00:28,  1.36s/it]"
     ]
    },
    {
     "name": "stderr",
     "output_type": "stream",
     "text": [
      "\r",
      " 20%|██        | 5/25 [00:06<00:27,  1.37s/it]"
     ]
    },
    {
     "name": "stderr",
     "output_type": "stream",
     "text": [
      "\r",
      " 24%|██▍       | 6/25 [00:08<00:25,  1.37s/it]"
     ]
    },
    {
     "name": "stderr",
     "output_type": "stream",
     "text": [
      "\r",
      " 28%|██▊       | 7/25 [00:09<00:24,  1.37s/it]"
     ]
    },
    {
     "name": "stderr",
     "output_type": "stream",
     "text": [
      "\r",
      " 32%|███▏      | 8/25 [00:10<00:23,  1.37s/it]"
     ]
    },
    {
     "name": "stderr",
     "output_type": "stream",
     "text": [
      "\r",
      " 36%|███▌      | 9/25 [00:12<00:21,  1.37s/it]"
     ]
    },
    {
     "name": "stderr",
     "output_type": "stream",
     "text": [
      "\r",
      " 40%|████      | 10/25 [00:13<00:20,  1.37s/it]"
     ]
    },
    {
     "name": "stderr",
     "output_type": "stream",
     "text": [
      "\r",
      " 44%|████▍     | 11/25 [00:15<00:19,  1.37s/it]"
     ]
    },
    {
     "name": "stderr",
     "output_type": "stream",
     "text": [
      "\r",
      " 48%|████▊     | 12/25 [00:16<00:17,  1.37s/it]"
     ]
    },
    {
     "name": "stderr",
     "output_type": "stream",
     "text": [
      "\r",
      " 52%|█████▏    | 13/25 [00:17<00:16,  1.37s/it]"
     ]
    },
    {
     "name": "stderr",
     "output_type": "stream",
     "text": [
      "\r",
      " 56%|█████▌    | 14/25 [00:19<00:15,  1.37s/it]"
     ]
    },
    {
     "name": "stderr",
     "output_type": "stream",
     "text": [
      "\r",
      " 60%|██████    | 15/25 [00:20<00:13,  1.37s/it]"
     ]
    },
    {
     "name": "stderr",
     "output_type": "stream",
     "text": [
      "\r",
      " 64%|██████▍   | 16/25 [00:21<00:12,  1.37s/it]"
     ]
    },
    {
     "name": "stderr",
     "output_type": "stream",
     "text": [
      "\r",
      " 68%|██████▊   | 17/25 [00:23<00:10,  1.37s/it]"
     ]
    },
    {
     "name": "stderr",
     "output_type": "stream",
     "text": [
      "\r",
      " 72%|███████▏  | 18/25 [00:24<00:09,  1.37s/it]"
     ]
    },
    {
     "name": "stderr",
     "output_type": "stream",
     "text": [
      "\r",
      " 76%|███████▌  | 19/25 [00:25<00:08,  1.37s/it]"
     ]
    },
    {
     "name": "stderr",
     "output_type": "stream",
     "text": [
      "\r",
      " 80%|████████  | 20/25 [00:27<00:06,  1.37s/it]"
     ]
    },
    {
     "name": "stderr",
     "output_type": "stream",
     "text": [
      "\r",
      " 84%|████████▍ | 21/25 [00:28<00:05,  1.37s/it]"
     ]
    },
    {
     "name": "stderr",
     "output_type": "stream",
     "text": [
      "\r",
      " 88%|████████▊ | 22/25 [00:30<00:04,  1.37s/it]"
     ]
    },
    {
     "name": "stderr",
     "output_type": "stream",
     "text": [
      "\r",
      " 92%|█████████▏| 23/25 [00:31<00:02,  1.37s/it]"
     ]
    },
    {
     "name": "stderr",
     "output_type": "stream",
     "text": [
      "\r",
      " 96%|█████████▌| 24/25 [00:32<00:01,  1.37s/it]"
     ]
    },
    {
     "name": "stderr",
     "output_type": "stream",
     "text": [
      "\r",
      "100%|██████████| 25/25 [00:34<00:00,  1.37s/it]"
     ]
    },
    {
     "name": "stderr",
     "output_type": "stream",
     "text": [
      "\r",
      "100%|██████████| 25/25 [00:34<00:00,  1.37s/it]"
     ]
    },
    {
     "name": "stdout",
     "output_type": "stream",
     "text": [
      "-3.586472138352394 ± 0.014352505249931041\n"
     ]
    },
    {
     "name": "stderr",
     "output_type": "stream",
     "text": [
      "\n"
     ]
    }
   ],
   "source": [
    "estimates = []\n",
    "for _ in tqdm(range(repeat)):\n",
    "    estimates.append(expected_nominal_pdf(r_64))\n",
    "print(np.mean(estimates), \"±\", np.std(estimates))\n",
    "\n",
    "m_64 = np.mean(estimates)\n",
    "s_64 = np.std(estimates)"
   ]
  },
  {
   "cell_type": "code",
   "execution_count": 31,
   "metadata": {
    "execution": {
     "iopub.execute_input": "2020-08-12T13:09:17.982967Z",
     "iopub.status.busy": "2020-08-12T13:09:17.982587Z",
     "iopub.status.idle": "2020-08-12T13:09:17.984905Z",
     "shell.execute_reply": "2020-08-12T13:09:17.984507Z"
    },
    "papermill": {
     "duration": 0.05722,
     "end_time": "2020-08-12T13:09:17.984974",
     "exception": false,
     "start_time": "2020-08-12T13:09:17.927754",
     "status": "completed"
    },
    "tags": []
   },
   "outputs": [
    {
     "data": {
      "text/plain": [
       "-3.586472138352394"
      ]
     },
     "execution_count": 31,
     "metadata": {},
     "output_type": "execute_result"
    }
   ],
   "source": [
    "m_64"
   ]
  },
  {
   "cell_type": "markdown",
   "metadata": {
    "papermill": {
     "duration": 0.051863,
     "end_time": "2020-08-12T13:09:18.089090",
     "exception": false,
     "start_time": "2020-08-12T13:09:18.037227",
     "status": "completed"
    },
    "tags": []
   },
   "source": [
    "## Plot $\\mathbb{E}_{x\\sim p(x)}\\left[\\log p(\\vartheta = \\vartheta^*\\vert x)\\right]$ vs. batch-size and associated losses"
   ]
  },
  {
   "cell_type": "code",
   "execution_count": 32,
   "metadata": {
    "execution": {
     "iopub.execute_input": "2020-08-12T13:09:18.215643Z",
     "iopub.status.busy": "2020-08-12T13:09:18.199891Z",
     "iopub.status.idle": "2020-08-12T13:09:19.991928Z",
     "shell.execute_reply": "2020-08-12T13:09:19.992244Z"
    },
    "papermill": {
     "duration": 1.851451,
     "end_time": "2020-08-12T13:09:19.992345",
     "exception": false,
     "start_time": "2020-08-12T13:09:18.140894",
     "status": "completed"
    },
    "tags": []
   },
   "outputs": [
    {
     "data": {
      "image/png": "[encoded data removed]",
      "text/plain": [
       "<Figure size 792x360 with 2 Axes>"
      ]
     },
     "metadata": {
      "needs_background": "light"
     },
     "output_type": "display_data"
    }
   ],
   "source": [
    "figure, axes = plt.subplots(ncols=2, figsize=(11, 5))\n",
    "\n",
    "batch_sizes = [64, 256, 1024, 4096]\n",
    "batch_sizes = [64, 256, 1024, 4096]\n",
    "\n",
    "# Expectation\n",
    "ax = axes[0]\n",
    "ax.set_xlabel(\"Batch-size\")\n",
    "#ax.set_xscale(\"log\", basex=2)\n",
    "ax.set_xticks([1, 2, 3, 4, 5, 6, 7])\n",
    "ax.set_xticklabels([\"64\", '', \"256\", '', \"1024\", \"\", \"4096\"])\n",
    "ax.set_ylabel(r\"$\\mathbb{E}_{x\\sim p(x)}\\left[\\log p(\\vartheta = \\vartheta^*\\vert x)\\right]$\")\n",
    "\n",
    "expectations_m = [m_64, m_256, m_1024, m_4096]\n",
    "expectations_e = [1 * s_64, 1 * s_256, 1 * s_1024, 1 * s_4096]\n",
    "ax.errorbar([1, 3, 5, 7], expectations_m, expectations_e, capsize=3, color=\"black\", marker='o', markersize=5, linestyle=\"solid\")\n",
    "ax.grid(True, alpha=.1, which=\"both\")\n",
    "#ax.set_title(r\"Expected log posterior probability of $\\vartheta^*$\")\n",
    "ax.minorticks_on()\n",
    "make_square(ax)\n",
    "\n",
    "# Losses\n",
    "ax = axes[1]\n",
    "ax.set_xlabel(\"Epochs\")\n",
    "ax.set_ylabel(\"Test loss\")\n",
    "ax.grid(True, alpha=.1, which=\"both\")\n",
    "ax.minorticks_on()\n",
    "markers = ['solid', 'dashed', 'dashdot', 'dotted']\n",
    "for index in range(len(test_losses_m)):\n",
    "    loss = test_losses_m[index]\n",
    "    error = 1 * test_losses_e[index] # 95 %\n",
    "    ax.plot(epochs, loss, lw=2, color=\"black\", linestyle=markers[index], label=batch_sizes[index])\n",
    "    #ax.fill_between(epochs, loss - error, loss + error, alpha=.1, lw=2, color=\"black\")\n",
    "ax.set_ylim([1.20, 1.255])\n",
    "ax.legend()\n",
    "ax.yaxis.tick_right()\n",
    "ax.yaxis.set_label_position(\"right\")\n",
    "ax.set_xticks([0, 10, 20, 30, 40, 50])\n",
    "make_square(ax)\n",
    "\n",
    "figure.tight_layout()\n",
    "plt.savefig(\"plots/batch-size-evaluation.pdf\", bbox_inches=\"tight\")\n",
    "figure.show()"
   ]
  }
 ],
 "metadata": {
  "kernelspec": {
   "display_name": "Python 3",
   "language": "python",
   "name": "python3"
  },
  "language_info": {
   "codemirror_mode": {
    "name": "ipython",
    "version": 3
   },
   "file_extension": ".py",
   "mimetype": "text/x-python",
   "name": "python",
   "nbconvert_exporter": "python",
   "pygments_lexer": "ipython3",
   "version": "3.7.6"
  },
  "papermill": {
   "duration": 145.886507,
   "end_time": "2020-08-12T13:09:20.394370",
   "environment_variables": {},
   "exception": null,
   "input_path": "summary-batch-size.ipynb",
   "output_path": "/data/home/joerih/projects/stellar-stream-inference/experiments/experiment-inference/out/summary-batch-size.ipynb",
   "parameters": {},
   "start_time": "2020-08-12T13:06:54.507863",
   "version": "2.1.1"
  }
 },
 "nbformat": 4,
 "nbformat_minor": 4
}