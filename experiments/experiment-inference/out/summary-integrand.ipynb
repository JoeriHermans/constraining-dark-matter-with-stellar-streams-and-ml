{
 "cells": [
  {
   "cell_type": "markdown",
   "metadata": {},
   "source": [
    "# Proper probability density diagnostic summary"
   ]
  },
  {
   "cell_type": "code",
   "execution_count": 1,
   "metadata": {},
   "outputs": [],
   "source": [
    "import hypothesis\n",
    "import numpy as np\n",
    "import glob\n",
    "import matplotlib\n",
    "import plotting\n",
    "import matplotlib.pyplot as plt\n",
    "import torch\n",
    "\n",
    "from hypothesis.stat import highest_density_level\n",
    "from hypothesis.visualization.util import make_square\n",
    "from matplotlib.colors import LogNorm\n",
    "from matplotlib import rc\n",
    "from plotting import compute_1d_pdf\n",
    "from plotting import compute_2d_pdf\n",
    "from plotting import compute_1d_pdf_abc\n",
    "from plotting import compute_2d_pdf_abc\n",
    "from plotting import plot_1d_pdf\n",
    "from plotting import plot_2d_pdf\n",
    "from plotting import plot_1d_pdf_std\n",
    "from plotting import plot_1d_contours\n",
    "from plotting import plot_2d_contours\n",
    "from plotting import plot_stream\n",
    "from tqdm import tqdm\n",
    "from util import load_ratio_estimator\n",
    "from util import MarginalizedAgePrior"
   ]
  },
  {
   "cell_type": "markdown",
   "metadata": {},
   "source": [
    "## Utilities"
   ]
  },
  {
   "cell_type": "code",
   "execution_count": 2,
   "metadata": {},
   "outputs": [],
   "source": [
    "def load_mlp(batchnorm=False, marginalized=False):\n",
    "    data = []\n",
    "    query = \"out/coverage/4096/\"\n",
    "    if marginalized:\n",
    "        query += \"marginalized/\"\n",
    "    else:\n",
    "        query += \"not-marginalized/\"\n",
    "    query += \"selu/integrand*mlp\"\n",
    "    if batchnorm:\n",
    "        query += \"-bn\"\n",
    "    query += \"-0*\"\n",
    "    paths = glob.glob(query)\n",
    "    for p in paths:\n",
    "        data.append(np.load(p))\n",
    "    data = np.vstack(data).reshape(-1)\n",
    "    \n",
    "    return np.mean(data), np.std(data), data"
   ]
  },
  {
   "cell_type": "code",
   "execution_count": 3,
   "metadata": {},
   "outputs": [],
   "source": [
    "def load_resnet_18(batchnorm=False, marginalized=False):\n",
    "    data = []\n",
    "    query = \"out/coverage/4096/\"\n",
    "    if marginalized:\n",
    "        query += \"marginalized/\"\n",
    "    else:\n",
    "        query += \"not-marginalized/\"\n",
    "    query += \"selu/integrand*resnet-18\"\n",
    "    if batchnorm:\n",
    "        query += \"-bn\"\n",
    "    query += \"-0*\"\n",
    "    paths = glob.glob(query)\n",
    "    for p in paths:\n",
    "        data.append(np.load(p))\n",
    "    data = np.vstack(data).reshape(-1)\n",
    "    \n",
    "    return np.mean(data), np.std(data), data"
   ]
  },
  {
   "cell_type": "code",
   "execution_count": 4,
   "metadata": {},
   "outputs": [],
   "source": [
    "def load_resnet_50(batchnorm=False, marginalized=False):\n",
    "    data = []\n",
    "    query = \"out/coverage/4096/\"\n",
    "    if marginalized:\n",
    "        query += \"marginalized/\"\n",
    "    else:\n",
    "        query += \"not-marginalized/\"\n",
    "    query += \"selu/integrand*resnet-50\"\n",
    "    if batchnorm:\n",
    "        query += \"-bn\"\n",
    "    query += \"-0*\"\n",
    "    paths = glob.glob(query)\n",
    "    for p in paths:\n",
    "        data.append(np.load(p))\n",
    "    data = np.vstack(data).reshape(-1)\n",
    "    \n",
    "    return np.mean(data), np.std(data), data"
   ]
  },
  {
   "cell_type": "markdown",
   "metadata": {},
   "source": [
    "## Results"
   ]
  },
  {
   "cell_type": "code",
   "execution_count": 5,
   "metadata": {},
   "outputs": [
    {
     "data": {
      "text/plain": [
       "(1.0228676990449659, 0.10857966706179639)"
      ]
     },
     "execution_count": 5,
     "metadata": {},
     "output_type": "execute_result"
    }
   ],
   "source": [
    "m, s, _ = load_mlp(batchnorm=False, marginalized=True)\n",
    "\n",
    "m, s"
   ]
  },
  {
   "cell_type": "code",
   "execution_count": 6,
   "metadata": {},
   "outputs": [
    {
     "data": {
      "text/plain": [
       "(1.0374566584306062, 0.08983811625497033)"
      ]
     },
     "execution_count": 6,
     "metadata": {},
     "output_type": "execute_result"
    }
   ],
   "source": [
    "m, s, _ = load_mlp(batchnorm=True, marginalized=True)\n",
    "\n",
    "m, s"
   ]
  },
  {
   "cell_type": "code",
   "execution_count": 7,
   "metadata": {},
   "outputs": [
    {
     "data": {
      "text/plain": [
       "(1.0013332928971723, 0.025556004633120695)"
      ]
     },
     "execution_count": 7,
     "metadata": {},
     "output_type": "execute_result"
    }
   ],
   "source": [
    "m, s, _ = load_resnet_18(batchnorm=False, marginalized=True)\n",
    "\n",
    "m, s"
   ]
  },
  {
   "cell_type": "code",
   "execution_count": 8,
   "metadata": {},
   "outputs": [
    {
     "data": {
      "text/plain": [
       "(0.9751884799879083, 0.029787141474727986)"
      ]
     },
     "execution_count": 8,
     "metadata": {},
     "output_type": "execute_result"
    }
   ],
   "source": [
    "m, s, _ = load_resnet_18(batchnorm=True, marginalized=True)\n",
    "\n",
    "m, s"
   ]
  },
  {
   "cell_type": "code",
   "execution_count": 9,
   "metadata": {},
   "outputs": [
    {
     "data": {
      "text/plain": [
       "(0.9936768851143731, 0.034502260006825436)"
      ]
     },
     "execution_count": 9,
     "metadata": {},
     "output_type": "execute_result"
    }
   ],
   "source": [
    "m, s, _ = load_resnet_50(batchnorm=False, marginalized=True)\n",
    "\n",
    "m, s"
   ]
  },
  {
   "cell_type": "code",
   "execution_count": 10,
   "metadata": {},
   "outputs": [
    {
     "data": {
      "text/plain": [
       "(1.001464430146705, 0.0376040221619753)"
      ]
     },
     "execution_count": 10,
     "metadata": {},
     "output_type": "execute_result"
    }
   ],
   "source": [
    "m, s, _ = load_resnet_50(batchnorm=True, marginalized=True)\n",
    "\n",
    "m, s"
   ]
  },
  {
   "cell_type": "markdown",
   "metadata": {},
   "source": [
    "## Consistency of the integrated area"
   ]
  },
  {
   "cell_type": "code",
   "execution_count": 11,
   "metadata": {},
   "outputs": [
    {
     "data": {
      "image/png": "[encoded data removed]",
      "text/plain": [
       "<Figure size 864x432 with 2 Axes>"
      ]
     },
     "metadata": {
      "needs_background": "light"
     },
     "output_type": "display_data"
    }
   ],
   "source": [
    "horizontal = True\n",
    "outliers = True\n",
    "notch = True\n",
    "props = dict(color=\"black\")\n",
    "\n",
    "xlabels = [\"MLP\", \"ResNet-18\", \"ResNet-50\"]\n",
    "\n",
    "if horizontal:\n",
    "    figure, axes = plt.subplots(1, 2, figsize=(12, 6))\n",
    "else: # Vertical\n",
    "    figure, axes = plt.subplots(2, 1, figsize=(6, 12))\n",
    "\n",
    "# Set nominal target\n",
    "axes[0].axhline(1, alpha=.75, linestyle=':', color=\"black\")\n",
    "axes[1].axhline(1, alpha=.75, linestyle=':', color=\"black\")\n",
    "    \n",
    "# With batch-normalization\n",
    "ax = axes[0]\n",
    "ax.set_title(\"With batch-normalization\")\n",
    "ax.set_ylabel(\"Integraded area of the posterior\")\n",
    "ax.minorticks_on()\n",
    "\n",
    "_, _, values_mlp = load_mlp(batchnorm=True, marginalized=True)\n",
    "_, _, values_resnet_18 = load_resnet_18(batchnorm=True, marginalized=True)\n",
    "_, _, values_resnet_50 = load_resnet_50(batchnorm=True, marginalized=True)\n",
    "values = np.vstack([values_mlp, values_resnet_18, values_resnet_50]).T\n",
    "ax.boxplot(values, showfliers=outliers, notch=notch, bootstrap=10000, medianprops=props, whis=(5, 95))\n",
    "ax.set_xticklabels(xlabels)\n",
    "\n",
    "# Without batch-normalization\n",
    "ax = axes[1]\n",
    "if not horizontal:\n",
    "    ax.set_ylabel(\"Integraded area of the posterior\")\n",
    "ax.set_title(\"Without batch-normalization\")\n",
    "ax.minorticks_on()\n",
    "\n",
    "_, _, values_mlp = load_mlp(batchnorm=False, marginalized=True)\n",
    "_, _, values_resnet_18 = load_resnet_18(batchnorm=False, marginalized=True)\n",
    "_, _, values_resnet_50 = load_resnet_50(batchnorm=False, marginalized=True)\n",
    "values = np.vstack([values_mlp, values_resnet_18, values_resnet_50]).T\n",
    "ax.boxplot(values, showfliers=outliers, notch=notch, bootstrap=10000, medianprops=props, whis=(5, 95))\n",
    "ax.set_xticklabels(xlabels)\n",
    "\n",
    "# Set the y-lims\n",
    "ylim_0 = axes[0].get_ylim()\n",
    "ylim_1 = axes[1].get_ylim()\n",
    "lower = min([ylim_0[0], ylim_1[0]])\n",
    "upper = max([ylim_1[1], ylim_1[1]])\n",
    "axes[0].set_ylim([lower, upper])\n",
    "axes[1].set_ylim([lower, upper])\n",
    "\n",
    "# Make the axes square\n",
    "make_square(axes[0])\n",
    "make_square(axes[1])\n",
    "\n",
    "if horizontal:\n",
    "    path = \"plots/integrand-boxplot-horizontal.pdf\"\n",
    "else:\n",
    "    path = \"plots/integrand-boxplot-vertical.pdf\"\n",
    "\n",
    "figure.savefig(path, bbox_inches=\"tight\")\n",
    "figure.show()"
   ]
  }
 ],
 "metadata": {
  "kernelspec": {
   "display_name": "Python 3",
   "language": "python",
   "name": "python3"
  },
  "language_info": {
   "codemirror_mode": {
    "name": "ipython",
    "version": 3
   },
   "file_extension": ".py",
   "mimetype": "text/x-python",
   "name": "python",
   "nbconvert_exporter": "python",
   "pygments_lexer": "ipython3",
   "version": "3.7.6"
  }
 },
 "nbformat": 4,
 "nbformat_minor": 4
}
