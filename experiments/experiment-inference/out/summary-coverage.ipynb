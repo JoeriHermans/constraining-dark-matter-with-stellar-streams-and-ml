{
 "cells": [
  {
   "cell_type": "markdown",
   "metadata": {},
   "source": [
    "# Coverage summary"
   ]
  },
  {
   "cell_type": "code",
   "execution_count": 1,
   "metadata": {},
   "outputs": [],
   "source": [
    "import hypothesis\n",
    "import numpy as np\n",
    "import glob\n",
    "import matplotlib\n",
    "import plotting\n",
    "import matplotlib.pyplot as plt\n",
    "import torch\n",
    "\n",
    "from hypothesis.stat import highest_density_level\n",
    "from hypothesis.visualization.util import make_square\n",
    "from matplotlib.colors import LogNorm\n",
    "from matplotlib import rc\n",
    "from plotting import compute_1d_pdf\n",
    "from plotting import compute_2d_pdf\n",
    "from plotting import compute_1d_pdf_abc\n",
    "from plotting import compute_2d_pdf_abc\n",
    "from plotting import plot_1d_pdf\n",
    "from plotting import plot_2d_pdf\n",
    "from plotting import plot_1d_pdf_std\n",
    "from plotting import plot_1d_contours\n",
    "from plotting import plot_2d_contours\n",
    "from plotting import plot_stream\n",
    "from tqdm import tqdm\n",
    "from util import load_ratio_estimator\n",
    "from util import MarginalizedAgePrior"
   ]
  },
  {
   "cell_type": "markdown",
   "metadata": {},
   "source": [
    "## Utilities"
   ]
  },
  {
   "cell_type": "code",
   "execution_count": 2,
   "metadata": {},
   "outputs": [],
   "source": [
    "def fetch_coverage(model, level, frequentist=False):\n",
    "    # Fetch the results\n",
    "    prefix = \"coverage-\"\n",
    "    if frequentist:\n",
    "        prefix += \"frequentist-\"\n",
    "    if \"not-marginalized\" not in model:\n",
    "        query = \"out/coverage/*/marginalized/selu/\" + prefix + str(level) + \"*\" + model + \"*.npy\"\n",
    "        paths = glob.glob(query)\n",
    "    else:\n",
    "        query = \"out/coverage/*/not-marginalized/selu/\" + prefix + str(level) + \"*\" + model + \"*.npy\"\n",
    "        paths = glob.glob(query)\n",
    "    coverages = []\n",
    "    for path in paths:\n",
    "        result = np.load(path)\n",
    "        coverages.append(result.sum() / len(result))\n",
    "    if len(coverages) == 0:\n",
    "        raise ValueError(\"No results available!\")\n",
    "    coverages = np.array(coverages)\n",
    "    m = round(np.mean(coverages), 3)\n",
    "    s = round(np.std(coverages), 3)\n",
    "\n",
    "    return m, s"
   ]
  },
  {
   "cell_type": "markdown",
   "metadata": {},
   "source": [
    "## Bayesian results"
   ]
  },
  {
   "cell_type": "markdown",
   "metadata": {},
   "source": [
    "### Marginalized"
   ]
  },
  {
   "cell_type": "markdown",
   "metadata": {},
   "source": [
    "#### MLP"
   ]
  },
  {
   "cell_type": "code",
   "execution_count": 3,
   "metadata": {},
   "outputs": [
    {
     "name": "stdout",
     "output_type": "stream",
     "text": [
      "0.997 ± 0.001\n",
      "0.954 ± 0.002\n",
      "0.685 ± 0.004\n"
     ]
    }
   ],
   "source": [
    "mean, std = fetch_coverage(\"mlp-marginalized\", level=.997, frequentist=False)\n",
    "print(mean, \"±\", std)\n",
    "\n",
    "mean, std = fetch_coverage(\"mlp-marginalized\", level=.95, frequentist=False)\n",
    "print(mean, \"±\", std)\n",
    "\n",
    "mean, std = fetch_coverage(\"mlp-marginalized\", level=.68, frequentist=False)\n",
    "print(mean, \"±\", std)"
   ]
  },
  {
   "cell_type": "markdown",
   "metadata": {},
   "source": [
    "#### MLP-BN"
   ]
  },
  {
   "cell_type": "code",
   "execution_count": 4,
   "metadata": {},
   "outputs": [
    {
     "name": "stdout",
     "output_type": "stream",
     "text": [
      "0.997 ± 0.0\n",
      "0.951 ± 0.002\n",
      "0.687 ± 0.006\n"
     ]
    }
   ],
   "source": [
    "mean, std = fetch_coverage(\"mlp-bn-marginalized\", level=.997, frequentist=False)\n",
    "print(mean, \"±\", std)\n",
    "\n",
    "mean, std = fetch_coverage(\"mlp-bn-marginalized\", level=.95, frequentist=False)\n",
    "print(mean, \"±\", std)\n",
    "\n",
    "mean, std = fetch_coverage(\"mlp-bn-marginalized\", level=.68, frequentist=False)\n",
    "print(mean, \"±\", std)"
   ]
  },
  {
   "cell_type": "markdown",
   "metadata": {},
   "source": [
    "#### ResNet-18"
   ]
  },
  {
   "cell_type": "code",
   "execution_count": 5,
   "metadata": {},
   "outputs": [
    {
     "name": "stdout",
     "output_type": "stream",
     "text": [
      "0.996 ± 0.001\n",
      "0.943 ± 0.002\n",
      "0.667 ± 0.004\n"
     ]
    }
   ],
   "source": [
    "mean, std = fetch_coverage(\"resnet-18-marginalized\", level=.997, frequentist=False)\n",
    "print(mean, \"±\", std)\n",
    "\n",
    "mean, std = fetch_coverage(\"resnet-18-marginalized\", level=.95, frequentist=False)\n",
    "print(mean, \"±\", std)\n",
    "\n",
    "mean, std = fetch_coverage(\"resnet-18-marginalized\", level=.68, frequentist=False)\n",
    "print(mean, \"±\", std)"
   ]
  },
  {
   "cell_type": "markdown",
   "metadata": {},
   "source": [
    "#### ResNet-18-BN"
   ]
  },
  {
   "cell_type": "code",
   "execution_count": 6,
   "metadata": {},
   "outputs": [
    {
     "name": "stdout",
     "output_type": "stream",
     "text": [
      "0.996 ± 0.001\n",
      "0.945 ± 0.001\n",
      "0.672 ± 0.004\n"
     ]
    }
   ],
   "source": [
    "mean, std = fetch_coverage(\"resnet-18-bn-marginalized\", level=.997, frequentist=False)\n",
    "print(mean, \"±\", std)\n",
    "\n",
    "mean, std = fetch_coverage(\"resnet-18-bn-marginalized\", level=.95, frequentist=False)\n",
    "print(mean, \"±\", std)\n",
    "\n",
    "mean, std = fetch_coverage(\"resnet-18-bn-marginalized\", level=.68, frequentist=False)\n",
    "print(mean, \"±\", std)"
   ]
  },
  {
   "cell_type": "markdown",
   "metadata": {},
   "source": [
    "#### ResNet-50"
   ]
  },
  {
   "cell_type": "code",
   "execution_count": 7,
   "metadata": {},
   "outputs": [
    {
     "name": "stdout",
     "output_type": "stream",
     "text": [
      "0.996 ± 0.001\n",
      "0.947 ± 0.003\n",
      "0.671 ± 0.005\n"
     ]
    }
   ],
   "source": [
    "mean, std = fetch_coverage(\"resnet-50-marginalized\", level=.997, frequentist=False)\n",
    "print(mean, \"±\", std)\n",
    "\n",
    "mean, std = fetch_coverage(\"resnet-50-marginalized\", level=.95, frequentist=False)\n",
    "print(mean, \"±\", std)\n",
    "\n",
    "mean, std = fetch_coverage(\"resnet-50-marginalized\", level=.68, frequentist=False)\n",
    "print(mean, \"±\", std)"
   ]
  },
  {
   "cell_type": "markdown",
   "metadata": {},
   "source": [
    "#### ResNet-50-BN"
   ]
  },
  {
   "cell_type": "code",
   "execution_count": 8,
   "metadata": {},
   "outputs": [
    {
     "name": "stdout",
     "output_type": "stream",
     "text": [
      "0.996 ± 0.001\n",
      "0.949 ± 0.002\n",
      "0.678 ± 0.004\n"
     ]
    }
   ],
   "source": [
    "mean, std = fetch_coverage(\"resnet-50-bn-marginalized\", level=.997, frequentist=False)\n",
    "print(mean, \"±\", std)\n",
    "\n",
    "mean, std = fetch_coverage(\"resnet-50-bn-marginalized\", level=.95, frequentist=False)\n",
    "print(mean, \"±\", std)\n",
    "\n",
    "mean, std = fetch_coverage(\"resnet-50-bn-marginalized\", level=.68, frequentist=False)\n",
    "print(mean, \"±\", std)"
   ]
  },
  {
   "cell_type": "markdown",
   "metadata": {},
   "source": [
    "### Not marginalized"
   ]
  },
  {
   "cell_type": "markdown",
   "metadata": {},
   "source": [
    "#### MLP"
   ]
  },
  {
   "cell_type": "code",
   "execution_count": 9,
   "metadata": {},
   "outputs": [
    {
     "name": "stdout",
     "output_type": "stream",
     "text": [
      "0.998 ± 0.0\n",
      "0.953 ± 0.002\n",
      "0.685 ± 0.005\n"
     ]
    }
   ],
   "source": [
    "mean, std = fetch_coverage(\"mlp-not-marginalized\", level=.997, frequentist=False)\n",
    "print(mean, \"±\", std)\n",
    "\n",
    "mean, std = fetch_coverage(\"mlp-not-marginalized\", level=.95, frequentist=False)\n",
    "print(mean, \"±\", std)\n",
    "\n",
    "mean, std = fetch_coverage(\"mlp-not-marginalized\", level=.68, frequentist=False)\n",
    "print(mean, \"±\", std)"
   ]
  },
  {
   "cell_type": "markdown",
   "metadata": {},
   "source": [
    "#### MLP-BN"
   ]
  },
  {
   "cell_type": "code",
   "execution_count": 10,
   "metadata": {},
   "outputs": [
    {
     "name": "stdout",
     "output_type": "stream",
     "text": [
      "0.997 ± 0.0\n",
      "0.952 ± 0.003\n",
      "0.685 ± 0.004\n"
     ]
    }
   ],
   "source": [
    "mean, std = fetch_coverage(\"mlp-bn-not-marginalized\", level=.997, frequentist=False)\n",
    "print(mean, \"±\", std)\n",
    "\n",
    "mean, std = fetch_coverage(\"mlp-bn-not-marginalized\", level=.95, frequentist=False)\n",
    "print(mean, \"±\", std)\n",
    "\n",
    "mean, std = fetch_coverage(\"mlp-bn-not-marginalized\", level=.68, frequentist=False)\n",
    "print(mean, \"±\", std)"
   ]
  },
  {
   "cell_type": "markdown",
   "metadata": {},
   "source": [
    "#### ResNet-18"
   ]
  },
  {
   "cell_type": "code",
   "execution_count": 11,
   "metadata": {},
   "outputs": [
    {
     "name": "stdout",
     "output_type": "stream",
     "text": [
      "0.995 ± 0.001\n",
      "0.945 ± 0.002\n",
      "0.666 ± 0.005\n"
     ]
    }
   ],
   "source": [
    "mean, std = fetch_coverage(\"resnet-18-not-marginalized\", level=.997, frequentist=False)\n",
    "print(mean, \"±\", std)\n",
    "\n",
    "mean, std = fetch_coverage(\"resnet-18-not-marginalized\", level=.95, frequentist=False)\n",
    "print(mean, \"±\", std)\n",
    "\n",
    "mean, std = fetch_coverage(\"resnet-18-not-marginalized\", level=.68, frequentist=False)\n",
    "print(mean, \"±\", std)"
   ]
  },
  {
   "cell_type": "markdown",
   "metadata": {},
   "source": [
    "#### ResNet-18-BN"
   ]
  },
  {
   "cell_type": "code",
   "execution_count": 12,
   "metadata": {},
   "outputs": [
    {
     "name": "stdout",
     "output_type": "stream",
     "text": [
      "0.996 ± 0.001\n",
      "0.945 ± 0.003\n",
      "0.671 ± 0.003\n"
     ]
    }
   ],
   "source": [
    "mean, std = fetch_coverage(\"resnet-18-bn-not-marginalized\", level=.997, frequentist=False)\n",
    "print(mean, \"±\", std)\n",
    "\n",
    "mean, std = fetch_coverage(\"resnet-18-bn-not-marginalized\", level=.95, frequentist=False)\n",
    "print(mean, \"±\", std)\n",
    "\n",
    "mean, std = fetch_coverage(\"resnet-18-bn-not-marginalized\", level=.68, frequentist=False)\n",
    "print(mean, \"±\", std)"
   ]
  },
  {
   "cell_type": "markdown",
   "metadata": {},
   "source": [
    "#### ResNet-50"
   ]
  },
  {
   "cell_type": "code",
   "execution_count": 13,
   "metadata": {},
   "outputs": [
    {
     "name": "stdout",
     "output_type": "stream",
     "text": [
      "0.996 ± 0.001\n",
      "0.944 ± 0.003\n",
      "0.674 ± 0.006\n"
     ]
    }
   ],
   "source": [
    "mean, std = fetch_coverage(\"resnet-50-not-marginalized\", level=.997, frequentist=False)\n",
    "print(mean, \"±\", std)\n",
    "\n",
    "mean, std = fetch_coverage(\"resnet-50-not-marginalized\", level=.95, frequentist=False)\n",
    "print(mean, \"±\", std)\n",
    "\n",
    "mean, std = fetch_coverage(\"resnet-50-not-marginalized\", level=.68, frequentist=False)\n",
    "print(mean, \"±\", std)"
   ]
  },
  {
   "cell_type": "markdown",
   "metadata": {},
   "source": [
    "#### ResNet-50-BN"
   ]
  },
  {
   "cell_type": "code",
   "execution_count": 14,
   "metadata": {},
   "outputs": [
    {
     "name": "stdout",
     "output_type": "stream",
     "text": [
      "0.997 ± 0.0\n",
      "0.947 ± 0.003\n",
      "0.677 ± 0.004\n"
     ]
    }
   ],
   "source": [
    "mean, std = fetch_coverage(\"resnet-50-bn-not-marginalized\", level=.997, frequentist=False)\n",
    "print(mean, \"±\", std)\n",
    "\n",
    "mean, std = fetch_coverage(\"resnet-50-bn-not-marginalized\", level=.95, frequentist=False)\n",
    "print(mean, \"±\", std)\n",
    "\n",
    "mean, std = fetch_coverage(\"resnet-50-bn-not-marginalized\", level=.68, frequentist=False)\n",
    "print(mean, \"±\", std)"
   ]
  },
  {
   "cell_type": "markdown",
   "metadata": {},
   "source": [
    "## Frequentist results"
   ]
  },
  {
   "cell_type": "markdown",
   "metadata": {},
   "source": [
    "### Marginalized"
   ]
  },
  {
   "cell_type": "markdown",
   "metadata": {},
   "source": [
    "#### MLP"
   ]
  },
  {
   "cell_type": "code",
   "execution_count": 15,
   "metadata": {},
   "outputs": [
    {
     "name": "stdout",
     "output_type": "stream",
     "text": [
      "0.999 ± 0.0\n",
      "0.968 ± 0.002\n",
      "0.75 ± 0.004\n"
     ]
    }
   ],
   "source": [
    "mean, std = fetch_coverage(\"mlp-marginalized\", level=.997, frequentist=True)\n",
    "print(mean, \"±\", std)\n",
    "\n",
    "mean, std = fetch_coverage(\"mlp-marginalized\", level=.95, frequentist=True)\n",
    "print(mean, \"±\", std)\n",
    "\n",
    "mean, std = fetch_coverage(\"mlp-marginalized\", level=.68, frequentist=True)\n",
    "print(mean, \"±\", std)"
   ]
  },
  {
   "cell_type": "markdown",
   "metadata": {},
   "source": [
    "#### MLP-BN"
   ]
  },
  {
   "cell_type": "code",
   "execution_count": 16,
   "metadata": {},
   "outputs": [
    {
     "name": "stdout",
     "output_type": "stream",
     "text": [
      "0.999 ± 0.0\n",
      "0.97 ± 0.002\n",
      "0.76 ± 0.003\n"
     ]
    }
   ],
   "source": [
    "mean, std = fetch_coverage(\"mlp-bn-marginalized\", level=.997, frequentist=True)\n",
    "print(mean, \"±\", std)\n",
    "\n",
    "mean, std = fetch_coverage(\"mlp-bn-marginalized\", level=.95, frequentist=True)\n",
    "print(mean, \"±\", std)\n",
    "\n",
    "mean, std = fetch_coverage(\"mlp-bn-marginalized\", level=.68, frequentist=True)\n",
    "print(mean, \"±\", std)"
   ]
  },
  {
   "cell_type": "markdown",
   "metadata": {},
   "source": [
    "#### ResNet-18"
   ]
  },
  {
   "cell_type": "code",
   "execution_count": 17,
   "metadata": {},
   "outputs": [
    {
     "name": "stdout",
     "output_type": "stream",
     "text": [
      "0.997 ± 0.0\n",
      "0.96 ± 0.002\n",
      "0.721 ± 0.005\n"
     ]
    }
   ],
   "source": [
    "mean, std = fetch_coverage(\"resnet-18-marginalized\", level=.997, frequentist=True)\n",
    "print(mean, \"±\", std)\n",
    "\n",
    "mean, std = fetch_coverage(\"resnet-18-marginalized\", level=.95, frequentist=True)\n",
    "print(mean, \"±\", std)\n",
    "\n",
    "mean, std = fetch_coverage(\"resnet-18-marginalized\", level=.68, frequentist=True)\n",
    "print(mean, \"±\", std)"
   ]
  },
  {
   "cell_type": "markdown",
   "metadata": {},
   "source": [
    "#### ResNet-18-BN"
   ]
  },
  {
   "cell_type": "code",
   "execution_count": 18,
   "metadata": {},
   "outputs": [
    {
     "name": "stdout",
     "output_type": "stream",
     "text": [
      "0.998 ± 0.0\n",
      "0.961 ± 0.002\n",
      "0.736 ± 0.003\n"
     ]
    }
   ],
   "source": [
    "mean, std = fetch_coverage(\"resnet-18-bn-marginalized\", level=.997, frequentist=True)\n",
    "print(mean, \"±\", std)\n",
    "\n",
    "mean, std = fetch_coverage(\"resnet-18-bn-marginalized\", level=.95, frequentist=True)\n",
    "print(mean, \"±\", std)\n",
    "\n",
    "mean, std = fetch_coverage(\"resnet-18-bn-marginalized\", level=.68, frequentist=True)\n",
    "print(mean, \"±\", std)"
   ]
  },
  {
   "cell_type": "markdown",
   "metadata": {},
   "source": [
    "#### ResNet-50"
   ]
  },
  {
   "cell_type": "code",
   "execution_count": 19,
   "metadata": {},
   "outputs": [
    {
     "name": "stdout",
     "output_type": "stream",
     "text": [
      "0.998 ± 0.001\n",
      "0.963 ± 0.0\n",
      "0.726 ± 0.005\n"
     ]
    }
   ],
   "source": [
    "mean, std = fetch_coverage(\"resnet-50-marginalized\", level=.997, frequentist=True)\n",
    "print(mean, \"±\", std)\n",
    "\n",
    "mean, std = fetch_coverage(\"resnet-50-marginalized\", level=.95, frequentist=True)\n",
    "print(mean, \"±\", std)\n",
    "\n",
    "mean, std = fetch_coverage(\"resnet-50-marginalized\", level=.68, frequentist=True)\n",
    "print(mean, \"±\", std)"
   ]
  },
  {
   "cell_type": "markdown",
   "metadata": {},
   "source": [
    "#### ResNet-50-BN"
   ]
  },
  {
   "cell_type": "code",
   "execution_count": 20,
   "metadata": {},
   "outputs": [
    {
     "name": "stdout",
     "output_type": "stream",
     "text": [
      "0.998 ± 0.0\n",
      "0.966 ± 0.001\n",
      "0.743 ± 0.002\n"
     ]
    }
   ],
   "source": [
    "mean, std = fetch_coverage(\"resnet-50-bn-marginalized\", level=.997, frequentist=True)\n",
    "print(mean, \"±\", std)\n",
    "\n",
    "mean, std = fetch_coverage(\"resnet-50-bn-marginalized\", level=.95, frequentist=True)\n",
    "print(mean, \"±\", std)\n",
    "\n",
    "mean, std = fetch_coverage(\"resnet-50-bn-marginalized\", level=.68, frequentist=True)\n",
    "print(mean, \"±\", std)"
   ]
  },
  {
   "cell_type": "markdown",
   "metadata": {},
   "source": [
    "### Not marginalized"
   ]
  },
  {
   "cell_type": "markdown",
   "metadata": {},
   "source": [
    "#### MLP"
   ]
  },
  {
   "cell_type": "code",
   "execution_count": 21,
   "metadata": {},
   "outputs": [
    {
     "name": "stdout",
     "output_type": "stream",
     "text": [
      "0.999 ± 0.0\n",
      "0.968 ± 0.001\n",
      "0.752 ± 0.003\n"
     ]
    }
   ],
   "source": [
    "mean, std = fetch_coverage(\"mlp-not-marginalized\", level=.997, frequentist=True)\n",
    "print(mean, \"±\", std)\n",
    "\n",
    "mean, std = fetch_coverage(\"mlp-not-marginalized\", level=.95, frequentist=True)\n",
    "print(mean, \"±\", std)\n",
    "\n",
    "mean, std = fetch_coverage(\"mlp-not-marginalized\", level=.68, frequentist=True)\n",
    "print(mean, \"±\", std)"
   ]
  },
  {
   "cell_type": "markdown",
   "metadata": {},
   "source": [
    "#### MLP-BN"
   ]
  },
  {
   "cell_type": "code",
   "execution_count": 22,
   "metadata": {},
   "outputs": [
    {
     "name": "stdout",
     "output_type": "stream",
     "text": [
      "0.999 ± 0.0\n",
      "0.97 ± 0.002\n",
      "0.758 ± 0.003\n"
     ]
    }
   ],
   "source": [
    "mean, std = fetch_coverage(\"mlp-bn-not-marginalized\", level=.997, frequentist=True)\n",
    "print(mean, \"±\", std)\n",
    "\n",
    "mean, std = fetch_coverage(\"mlp-bn-not-marginalized\", level=.95, frequentist=True)\n",
    "print(mean, \"±\", std)\n",
    "\n",
    "mean, std = fetch_coverage(\"mlp-bn-not-marginalized\", level=.68, frequentist=True)\n",
    "print(mean, \"±\", std)"
   ]
  },
  {
   "cell_type": "markdown",
   "metadata": {},
   "source": [
    "#### ResNet-18"
   ]
  },
  {
   "cell_type": "code",
   "execution_count": 23,
   "metadata": {},
   "outputs": [
    {
     "name": "stdout",
     "output_type": "stream",
     "text": [
      "0.998 ± 0.0\n",
      "0.961 ± 0.002\n",
      "0.724 ± 0.005\n"
     ]
    }
   ],
   "source": [
    "mean, std = fetch_coverage(\"resnet-18-not-marginalized\", level=.997, frequentist=True)\n",
    "print(mean, \"±\", std)\n",
    "\n",
    "mean, std = fetch_coverage(\"resnet-18-not-marginalized\", level=.95, frequentist=True)\n",
    "print(mean, \"±\", std)\n",
    "\n",
    "mean, std = fetch_coverage(\"resnet-18-not-marginalized\", level=.68, frequentist=True)\n",
    "print(mean, \"±\", std)"
   ]
  },
  {
   "cell_type": "markdown",
   "metadata": {},
   "source": [
    "#### ResNet-18-BN"
   ]
  },
  {
   "cell_type": "code",
   "execution_count": 24,
   "metadata": {},
   "outputs": [
    {
     "name": "stdout",
     "output_type": "stream",
     "text": [
      "0.998 ± 0.0\n",
      "0.961 ± 0.002\n",
      "0.736 ± 0.004\n"
     ]
    }
   ],
   "source": [
    "mean, std = fetch_coverage(\"resnet-18-bn-not-marginalized\", level=.997, frequentist=True)\n",
    "print(mean, \"±\", std)\n",
    "\n",
    "mean, std = fetch_coverage(\"resnet-18-bn-not-marginalized\", level=.95, frequentist=True)\n",
    "print(mean, \"±\", std)\n",
    "\n",
    "mean, std = fetch_coverage(\"resnet-18-bn-not-marginalized\", level=.68, frequentist=True)\n",
    "print(mean, \"±\", std)"
   ]
  },
  {
   "cell_type": "markdown",
   "metadata": {},
   "source": [
    "#### ResNet-50"
   ]
  },
  {
   "cell_type": "code",
   "execution_count": 25,
   "metadata": {},
   "outputs": [
    {
     "name": "stdout",
     "output_type": "stream",
     "text": [
      "0.999 ± 0.0\n",
      "0.97 ± 0.002\n",
      "0.74 ± 0.004\n"
     ]
    }
   ],
   "source": [
    "mean, std = fetch_coverage(\"resnet-50-not-marginalized\", level=.997, frequentist=True)\n",
    "print(mean, \"±\", std)\n",
    "\n",
    "mean, std = fetch_coverage(\"resnet-50-not-marginalized\", level=.95, frequentist=True)\n",
    "print(mean, \"±\", std)\n",
    "\n",
    "mean, std = fetch_coverage(\"resnet-50-not-marginalized\", level=.68, frequentist=True)\n",
    "print(mean, \"±\", std)"
   ]
  },
  {
   "cell_type": "markdown",
   "metadata": {},
   "source": [
    "#### ResNet-50-BN"
   ]
  },
  {
   "cell_type": "code",
   "execution_count": 26,
   "metadata": {},
   "outputs": [
    {
     "name": "stdout",
     "output_type": "stream",
     "text": [
      "0.999 ± 0.0\n",
      "0.97 ± 0.002\n",
      "0.738 ± 0.004\n"
     ]
    }
   ],
   "source": [
    "mean, std = fetch_coverage(\"resnet-50-bn-not-marginalized\", level=.997, frequentist=True)\n",
    "print(mean, \"±\", std)\n",
    "\n",
    "mean, std = fetch_coverage(\"resnet-50-bn-not-marginalized\", level=.95, frequentist=True)\n",
    "print(mean, \"±\", std)\n",
    "\n",
    "mean, std = fetch_coverage(\"resnet-50-bn-not-marginalized\", level=.68, frequentist=True)\n",
    "print(mean, \"±\", std)"
   ]
  }
 ],
 "metadata": {
  "kernelspec": {
   "display_name": "Python 3",
   "language": "python",
   "name": "python3"
  },
  "language_info": {
   "codemirror_mode": {
    "name": "ipython",
    "version": 3
   },
   "file_extension": ".py",
   "mimetype": "text/x-python",
   "name": "python",
   "nbconvert_exporter": "python",
   "pygments_lexer": "ipython3",
   "version": "3.7.6"
  }
 },
 "nbformat": 4,
 "nbformat_minor": 4
}
